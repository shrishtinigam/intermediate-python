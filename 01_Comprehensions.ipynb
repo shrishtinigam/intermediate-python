{
  "nbformat": 4,
  "nbformat_minor": 0,
  "metadata": {
    "colab": {
      "provenance": [],
      "authorship_tag": "ABX9TyMzHJkqhtS0nmIK1N+9VUMZ",
      "include_colab_link": true
    },
    "kernelspec": {
      "name": "python3",
      "display_name": "Python 3"
    },
    "language_info": {
      "name": "python"
    }
  },
  "cells": [
    {
      "cell_type": "markdown",
      "metadata": {
        "id": "view-in-github",
        "colab_type": "text"
      },
      "source": [
        "<a href=\"https://colab.research.google.com/github/shrishtinigam/intermediate-python/blob/main/01_Comprehensions.ipynb\" target=\"_parent\"><img src=\"https://colab.research.google.com/assets/colab-badge.svg\" alt=\"Open In Colab\"/></a>"
      ]
    },
    {
      "cell_type": "markdown",
      "source": [
        "# List Comprehnsions\n",
        "\n",
        " * A list comprehension consists of brackets containing an expression followed by a for clause, then zero or more for or if clauses. The result is a new list resulting from evaluating the expression in the context of the for and if clauses which follow it.\n",
        " * By making code shorter and more concise, you make it more readable without\n",
        "compromising efficiency.\n",
        "\n",
        "\n",
        "```py\n",
        "[ expression + context ]\n",
        "\n",
        "OR\n",
        "\n",
        "[expression for item in iterable if condition]\n",
        "```\n",
        "\n",
        "\n"
      ],
      "metadata": {
        "id": "Koq4_u7wldXA"
      }
    },
    {
      "cell_type": "markdown",
      "source": [
        "### How List Comprehensions Work\n",
        "Under the hood, list comprehensions are a more readable and succinct way to write for loops. They are `syntactic sugar` for the following for loop:"
      ],
      "metadata": {
        "id": "cfqac8GMl0kK"
      }
    },
    {
      "cell_type": "code",
      "execution_count": 2,
      "metadata": {
        "colab": {
          "base_uri": "https://localhost:8080/"
        },
        "id": "ketlJW_mkjq9",
        "outputId": "46b380b6-5aa8-4e78-fb4b-65cc83a138de"
      },
      "outputs": [
        {
          "output_type": "stream",
          "name": "stdout",
          "text": [
            "[0, 1, 4, 9, 16, 25, 36, 49, 64, 81]\n"
          ]
        }
      ],
      "source": [
        "squares = [x**2 for x in range(10)]\n",
        "print(squares)"
      ]
    },
    {
      "cell_type": "code",
      "source": [
        "squares = []\n",
        "for x in range(10):\n",
        "    squares.append(x**2)"
      ],
      "metadata": {
        "id": "Jwbl4JBsl5Ma"
      },
      "execution_count": 3,
      "outputs": []
    },
    {
      "cell_type": "markdown",
      "source": [
        "## Different Ways to Use List Comprehensions"
      ],
      "metadata": {
        "id": "_nZiJLIAm6-i"
      }
    },
    {
      "cell_type": "markdown",
      "source": [
        "#### Simple List Comprehension"
      ],
      "metadata": {
        "id": "gUqgWS8Cqol6"
      }
    },
    {
      "cell_type": "code",
      "source": [
        "squares = [x**2 for x in range(10)]\n",
        "squares"
      ],
      "metadata": {
        "colab": {
          "base_uri": "https://localhost:8080/"
        },
        "id": "EZG60ysim_iB",
        "outputId": "ed6fc15a-bd69-45a8-f2c8-30f07c29798f"
      },
      "execution_count": 9,
      "outputs": [
        {
          "output_type": "execute_result",
          "data": {
            "text/plain": [
              "[0, 1, 4, 9, 16, 25, 36, 49, 64, 81]"
            ]
          },
          "metadata": {},
          "execution_count": 9
        }
      ]
    },
    {
      "cell_type": "code",
      "source": [
        "lower_case = [x.lower() for x in ['I', 'AM', 'NOT', 'SHOUTING']]\n",
        "lower_case"
      ],
      "metadata": {
        "colab": {
          "base_uri": "https://localhost:8080/"
        },
        "id": "viIkQdbZ64k9",
        "outputId": "1f7223f2-e72a-4b48-a86e-539a3bdab026"
      },
      "execution_count": 42,
      "outputs": [
        {
          "output_type": "stream",
          "name": "stdout",
          "text": [
            "['i', 'am', 'not', 'shouting']\n"
          ]
        }
      ]
    },
    {
      "cell_type": "code",
      "source": [
        "# On a dictionary\n",
        "employees = {'Alice' : 100000,\n",
        "             'Bob' : 99817,\n",
        "             'Carol' : 122908,\n",
        "             'Frank' : 88123,\n",
        "             'Eve' : 93121}\n",
        "## One-Liner\n",
        "top_earners = [(k, v) for k, v in employees.items() if v >= 100000]\n",
        "top_earners"
      ],
      "metadata": {
        "colab": {
          "base_uri": "https://localhost:8080/"
        },
        "id": "RM-dOHjf7QtU",
        "outputId": "61f0c528-146f-4ef0-d355-cbf3d60e4076"
      },
      "execution_count": 45,
      "outputs": [
        {
          "output_type": "execute_result",
          "data": {
            "text/plain": [
              "[('Alice', 100000), ('Carol', 122908)]"
            ]
          },
          "metadata": {},
          "execution_count": 45
        }
      ]
    },
    {
      "cell_type": "markdown",
      "source": [
        "#### List Comprehension with Conditionals"
      ],
      "metadata": {
        "id": "lMrBLDpwqrFD"
      }
    },
    {
      "cell_type": "code",
      "source": [
        "evens = [x for x in range(10) if x % 2 == 0]\n",
        "evens"
      ],
      "metadata": {
        "colab": {
          "base_uri": "https://localhost:8080/"
        },
        "id": "Vg538Z75nAFB",
        "outputId": "0e987f29-bf28-4286-af4e-24adebad9ca1"
      },
      "execution_count": 10,
      "outputs": [
        {
          "output_type": "execute_result",
          "data": {
            "text/plain": [
              "[0, 2, 4, 6, 8]"
            ]
          },
          "metadata": {},
          "execution_count": 10
        }
      ]
    },
    {
      "cell_type": "markdown",
      "source": [
        "#### Nested List Comprehensions\n",
        "* Useful for multidimensional data structures, such as matrices."
      ],
      "metadata": {
        "id": "0AH3IaMLqt4V"
      }
    },
    {
      "cell_type": "code",
      "source": [
        "matrix = [[i+j for j in range(3)] for i in range(3)]\n",
        "matrix"
      ],
      "metadata": {
        "colab": {
          "base_uri": "https://localhost:8080/"
        },
        "id": "zSx-uqPRnAJR",
        "outputId": "56ff5be4-1aa6-486e-c045-7ee9a297a495"
      },
      "execution_count": 11,
      "outputs": [
        {
          "output_type": "execute_result",
          "data": {
            "text/plain": [
              "[[0, 1, 2], [1, 2, 3], [2, 3, 4]]"
            ]
          },
          "metadata": {},
          "execution_count": 11
        }
      ]
    },
    {
      "cell_type": "code",
      "source": [
        "# Translation of above list comprehension\n",
        "matrix = []\n",
        "for i in range(3):\n",
        "    inner_list = []\n",
        "    for j in range(3):\n",
        "        inner_list.append(i + j)\n",
        "    matrix.append(inner_list)\n",
        "\n",
        "print(matrix)"
      ],
      "metadata": {
        "colab": {
          "base_uri": "https://localhost:8080/"
        },
        "id": "rSIToLLvoxQR",
        "outputId": "bd843b3a-4bbc-4af9-dabe-430d4657d780"
      },
      "execution_count": 12,
      "outputs": [
        {
          "output_type": "stream",
          "name": "stdout",
          "text": [
            "[[0, 1, 2], [1, 2, 3], [2, 3, 4]]\n"
          ]
        }
      ]
    },
    {
      "cell_type": "markdown",
      "source": [
        "#### List Comprehension with Multiple for Clauses\n",
        "* Best for generating combinations or Cartesian products."
      ],
      "metadata": {
        "id": "jSLv8bShq0t-"
      }
    },
    {
      "cell_type": "code",
      "source": [
        "pairs = [(i, j) for i in range(3) for j in range(3)]\n",
        "pairs"
      ],
      "metadata": {
        "colab": {
          "base_uri": "https://localhost:8080/"
        },
        "id": "ihmH76_snMaV",
        "outputId": "da08871b-a9e9-498c-ea2a-4cc18b60c6ea"
      },
      "execution_count": 13,
      "outputs": [
        {
          "output_type": "execute_result",
          "data": {
            "text/plain": [
              "[(0, 0), (0, 1), (0, 2), (1, 0), (1, 1), (1, 2), (2, 0), (2, 1), (2, 2)]"
            ]
          },
          "metadata": {},
          "execution_count": 13
        }
      ]
    },
    {
      "cell_type": "code",
      "source": [
        "# Translation of above list comprehension\n",
        "pairs = []\n",
        "for i in range(3):\n",
        "    for j in range(3):\n",
        "        pairs.append((i, j))\n",
        "\n",
        "print(pairs)"
      ],
      "metadata": {
        "colab": {
          "base_uri": "https://localhost:8080/"
        },
        "id": "JOB2_bBTo1i-",
        "outputId": "e7e7c8a4-24c9-465d-c893-2a6a16e0840e"
      },
      "execution_count": 14,
      "outputs": [
        {
          "output_type": "stream",
          "name": "stdout",
          "text": [
            "[(0, 0), (0, 1), (0, 2), (1, 0), (1, 1), (1, 2), (2, 0), (2, 1), (2, 2)]\n"
          ]
        }
      ]
    },
    {
      "cell_type": "markdown",
      "source": [
        "#### Using Functions in List Comprehensions"
      ],
      "metadata": {
        "id": "swW_slpNq39F"
      }
    },
    {
      "cell_type": "code",
      "source": [
        "def square(x):\n",
        "    return x**2\n",
        "\n",
        "squares = [square(x) for x in range(10)]\n",
        "squares"
      ],
      "metadata": {
        "colab": {
          "base_uri": "https://localhost:8080/"
        },
        "id": "gx-gqPMEnMdQ",
        "outputId": "d84073ce-11eb-4463-c54f-701da5f4a6f6"
      },
      "execution_count": 16,
      "outputs": [
        {
          "output_type": "execute_result",
          "data": {
            "text/plain": [
              "[0, 1, 4, 9, 16, 25, 36, 49, 64, 81]"
            ]
          },
          "metadata": {},
          "execution_count": 16
        }
      ]
    },
    {
      "cell_type": "markdown",
      "source": [
        "## Common Mistakes and Pitfalls"
      ],
      "metadata": {
        "id": "Ox3xCaDDqhKE"
      }
    },
    {
      "cell_type": "markdown",
      "source": [
        "### Misunderstanding Scope\n",
        "* Variables defined in the list comprehension are local to the comprehension."
      ],
      "metadata": {
        "id": "yBoXNpN4rCRE"
      }
    },
    {
      "cell_type": "code",
      "source": [
        "x = 10\n",
        "squares = [x**2 for x in range(10)]\n",
        "print(x)  # Output: 10 (not modified)"
      ],
      "metadata": {
        "colab": {
          "base_uri": "https://localhost:8080/"
        },
        "id": "9j3LhrlToUMo",
        "outputId": "c81410fe-8010-4fcf-95f3-c741dc5d4da6"
      },
      "execution_count": 17,
      "outputs": [
        {
          "output_type": "stream",
          "name": "stdout",
          "text": [
            "10\n"
          ]
        }
      ]
    },
    {
      "cell_type": "markdown",
      "source": [
        "### Using Complex Expressions\n",
        "* List comprehensions are meant for readability. Complex expressions can make them hard to read."
      ],
      "metadata": {
        "id": "znTQPLUkrq1v"
      }
    },
    {
      "cell_type": "code",
      "source": [
        "# Hard to read\n",
        "result = [(x, y) for x in range(3) for y in range(3) if x != y]\n",
        "\n",
        "# More readable\n",
        "result = []\n",
        "for x in range(3):\n",
        "    for y in range(3):\n",
        "        if x != y:\n",
        "            result.append((x, y))"
      ],
      "metadata": {
        "id": "1xKcll09nMgZ"
      },
      "execution_count": null,
      "outputs": []
    },
    {
      "cell_type": "markdown",
      "source": [
        "### Memory Issues [!IMP]\n",
        "\n",
        "* List comprehensions can be very memory-efficient for small to moderately sized datasets.\n",
        "* However, they can lead to significant memory usage problems when dealing with large datasets.\n",
        "* List comprehensions evaluate the expression and generate the entire list in memory immediately.\n",
        "* I.e., list comprehensions create an **entire list in memory all at once**.\n",
        "\n",
        "\n"
      ],
      "metadata": {
        "id": "2oFBNuN0suOa"
      }
    },
    {
      "cell_type": "code",
      "source": [
        "squares = [x**2 for x in range(10000000)]\n",
        "squares"
      ],
      "metadata": {
        "id": "mco2cENazmhx"
      },
      "execution_count": null,
      "outputs": []
    },
    {
      "cell_type": "markdown",
      "source": [
        "#### Generators as a Memory-Efficient Alternative\n",
        "* Generators are a better alternative when working with large datasets.\n",
        "* They generate items one at a time and do not store the entire list in memory, thus reducing memory usage.\n",
        "* Instead of a list comprehension, use a generator expression by replacing square brackets [] with parentheses ():"
      ],
      "metadata": {
        "id": "Ez7LWQhKzV0m"
      }
    },
    {
      "cell_type": "code",
      "source": [
        "squares_gen = (x**2 for x in range(10000000))\n",
        "\n",
        "for i in range(5):\n",
        "  try:\n",
        "      value = next(squares_gen)\n",
        "      print(value)\n",
        "  except StopIteration:\n",
        "      break"
      ],
      "metadata": {
        "colab": {
          "base_uri": "https://localhost:8080/"
        },
        "id": "OqK_IRzJ0VzP",
        "outputId": "6e657e8e-9c70-4fdb-c186-b7b6181871be"
      },
      "execution_count": 36,
      "outputs": [
        {
          "output_type": "stream",
          "name": "stdout",
          "text": [
            "0\n",
            "1\n",
            "4\n",
            "9\n",
            "16\n"
          ]
        }
      ]
    },
    {
      "cell_type": "markdown",
      "source": [
        "Comparing Memory Usage: List Comprehension vs. Generator\n"
      ],
      "metadata": {
        "id": "v4Ww_Qow0jWQ"
      }
    },
    {
      "cell_type": "code",
      "source": [
        "import sys\n",
        "squares = [x**2 for x in range(10000000)]\n",
        "print(sys.getsizeof(squares))\n",
        "\n",
        "squares_gen = (x**2 for x in range(10000000))\n",
        "print(sys.getsizeof(squares_gen))"
      ],
      "metadata": {
        "colab": {
          "base_uri": "https://localhost:8080/"
        },
        "id": "SoqegUSN0fxf",
        "outputId": "a3938c02-6767-46b0-c61a-c09a9d6bd5a3"
      },
      "execution_count": 37,
      "outputs": [
        {
          "output_type": "stream",
          "name": "stdout",
          "text": [
            "89095160\n",
            "104\n"
          ]
        }
      ]
    },
    {
      "cell_type": "markdown",
      "source": [
        "#### Best Practices to Mitigate Memory Issues\n",
        "1. Use Generators for Large Datasets:\n",
        "* Prefer generator expressions for large datasets to save memory.\n",
        "\n",
        "2. Avoid Storing Large Intermediate Results:\n",
        "* Break down the problem to avoid generating large intermediate results. Process data in smaller chunks if possible.\n",
        "\n",
        "3. Use Built-in Functions Efficiently:\n",
        "* Functions like map() and filter() return iterators, which can be more memory-efficient than list comprehensions."
      ],
      "metadata": {
        "id": "EvsntDHe1BPW"
      }
    },
    {
      "cell_type": "code",
      "source": [
        "squares_map = map(lambda x: x**2, range(10000000))\n",
        "\n",
        "print(sys.getsizeof(squares_map))\n",
        "\n",
        "for i in range(5):\n",
        "  try:\n",
        "      value = next(squares_map)\n",
        "      print(value)\n",
        "  except StopIteration:\n",
        "      break"
      ],
      "metadata": {
        "id": "ty_9mjMp1SXX"
      },
      "execution_count": null,
      "outputs": []
    },
    {
      "cell_type": "markdown",
      "source": [
        "4. Chunk Processing:\n",
        "* If you must use list comprehensions, consider processing data in chunks and combining results incrementally."
      ],
      "metadata": {
        "id": "YpYVAeMT1fc9"
      }
    },
    {
      "cell_type": "code",
      "source": [
        "def process_chunks(chunk_size):\n",
        "    for start in range(0, 10000000, chunk_size):\n",
        "        chunk = [x**2 for x in range(start, start + chunk_size)]\n",
        "        # Process the chunk\n",
        "        print(f\"Processed chunk starting at {start}\")\n",
        "\n",
        "process_chunks(100000)"
      ],
      "metadata": {
        "id": "ZVgsB7WF1nwn"
      },
      "execution_count": null,
      "outputs": []
    },
    {
      "cell_type": "markdown",
      "source": [
        "## How to use Comprehensions Efficiently\n",
        "\n",
        "### Use Generators for Large Datasets\n",
        "As explained in a section above, instead of list comprehensions, use generator expressions to save memory."
      ],
      "metadata": {
        "id": "MTSB37AttHX9"
      }
    },
    {
      "cell_type": "code",
      "source": [
        "# List comprehension\n",
        "large_list = [x**2 for x in range(10000000)]\n",
        "print(large_list[:5])\n",
        "\n",
        "# Generator expression\n",
        "large_gen = (x**2 for x in range(10000000))\n",
        "for i in range(5):\n",
        "  try:\n",
        "      value = next(large_gen)\n",
        "      print(value)\n",
        "  except StopIteration:\n",
        "      break"
      ],
      "metadata": {
        "colab": {
          "base_uri": "https://localhost:8080/"
        },
        "id": "NXegn2x7tQbW",
        "outputId": "9c10a437-7fcc-4981-b643-cd2f12a713d6"
      },
      "execution_count": 23,
      "outputs": [
        {
          "output_type": "stream",
          "name": "stdout",
          "text": [
            "[0, 1, 4, 9, 16]\n",
            "0\n",
            "1\n",
            "4\n",
            "9\n",
            "16\n"
          ]
        }
      ]
    },
    {
      "cell_type": "markdown",
      "source": [
        "### Optimize Conditions\n",
        "Place the most restrictive conditions first to minimize iterations."
      ],
      "metadata": {
        "id": "m11G733utSuf"
      }
    },
    {
      "cell_type": "code",
      "source": [
        "# Less efficient\n",
        "result = [x for x in range(1000) if x % 2 == 0 and x > 500]\n",
        "print(result)\n",
        "\n",
        "# More efficient\n",
        "result = [x for x in range(501, 1000) if x % 2 == 0]\n",
        "print(result)"
      ],
      "metadata": {
        "id": "dn5rmAHttY-2"
      },
      "execution_count": 24,
      "outputs": []
    },
    {
      "cell_type": "markdown",
      "source": [
        "### Avoid Nested Comprehensions for Deep Nesting\n",
        "\n",
        "Deeply nested comprehensions can be hard to read and maintain."
      ],
      "metadata": {
        "id": "j7tpZxPkta7t"
      }
    },
    {
      "cell_type": "code",
      "source": [
        "# Hard to read\n",
        "result = [[[y for y in range(x)] for x in range(10)] for i in range(5)]\n",
        "print(f\"Nested Comprehensions: {result}\")\n",
        "\n",
        "# More readable with loops\n",
        "result = []\n",
        "for x in range(10):\n",
        "    inner_list = []\n",
        "    for y in range(x):\n",
        "        inner_list.append(y)\n",
        "        for i in range(5):\n",
        "            result.append(inner_list)\n",
        "    result.append(inner_list)\n",
        "print(f\"For loop: {result}\")"
      ],
      "metadata": {
        "colab": {
          "base_uri": "https://localhost:8080/"
        },
        "id": "zq0h2Q4StgAy",
        "outputId": "21a33a79-55f3-4bda-958c-567b17a11a51"
      },
      "execution_count": 20,
      "outputs": [
        {
          "output_type": "stream",
          "name": "stdout",
          "text": [
            "Nested Comprehensions: [[[], [0], [0, 1], [0, 1, 2], [0, 1, 2, 3], [0, 1, 2, 3, 4], [0, 1, 2, 3, 4, 5], [0, 1, 2, 3, 4, 5, 6], [0, 1, 2, 3, 4, 5, 6, 7], [0, 1, 2, 3, 4, 5, 6, 7, 8]], [[], [0], [0, 1], [0, 1, 2], [0, 1, 2, 3], [0, 1, 2, 3, 4], [0, 1, 2, 3, 4, 5], [0, 1, 2, 3, 4, 5, 6], [0, 1, 2, 3, 4, 5, 6, 7], [0, 1, 2, 3, 4, 5, 6, 7, 8]], [[], [0], [0, 1], [0, 1, 2], [0, 1, 2, 3], [0, 1, 2, 3, 4], [0, 1, 2, 3, 4, 5], [0, 1, 2, 3, 4, 5, 6], [0, 1, 2, 3, 4, 5, 6, 7], [0, 1, 2, 3, 4, 5, 6, 7, 8]], [[], [0], [0, 1], [0, 1, 2], [0, 1, 2, 3], [0, 1, 2, 3, 4], [0, 1, 2, 3, 4, 5], [0, 1, 2, 3, 4, 5, 6], [0, 1, 2, 3, 4, 5, 6, 7], [0, 1, 2, 3, 4, 5, 6, 7, 8]], [[], [0], [0, 1], [0, 1, 2], [0, 1, 2, 3], [0, 1, 2, 3, 4], [0, 1, 2, 3, 4, 5], [0, 1, 2, 3, 4, 5, 6], [0, 1, 2, 3, 4, 5, 6, 7], [0, 1, 2, 3, 4, 5, 6, 7, 8]]]\n",
            "For loop: [[], [0], [0], [0], [0], [0], [0], [0, 1], [0, 1], [0, 1], [0, 1], [0, 1], [0, 1], [0, 1], [0, 1], [0, 1], [0, 1], [0, 1], [0, 1, 2], [0, 1, 2], [0, 1, 2], [0, 1, 2], [0, 1, 2], [0, 1, 2], [0, 1, 2], [0, 1, 2], [0, 1, 2], [0, 1, 2], [0, 1, 2], [0, 1, 2], [0, 1, 2], [0, 1, 2], [0, 1, 2], [0, 1, 2], [0, 1, 2, 3], [0, 1, 2, 3], [0, 1, 2, 3], [0, 1, 2, 3], [0, 1, 2, 3], [0, 1, 2, 3], [0, 1, 2, 3], [0, 1, 2, 3], [0, 1, 2, 3], [0, 1, 2, 3], [0, 1, 2, 3], [0, 1, 2, 3], [0, 1, 2, 3], [0, 1, 2, 3], [0, 1, 2, 3], [0, 1, 2, 3], [0, 1, 2, 3], [0, 1, 2, 3], [0, 1, 2, 3], [0, 1, 2, 3], [0, 1, 2, 3], [0, 1, 2, 3, 4], [0, 1, 2, 3, 4], [0, 1, 2, 3, 4], [0, 1, 2, 3, 4], [0, 1, 2, 3, 4], [0, 1, 2, 3, 4], [0, 1, 2, 3, 4], [0, 1, 2, 3, 4], [0, 1, 2, 3, 4], [0, 1, 2, 3, 4], [0, 1, 2, 3, 4], [0, 1, 2, 3, 4], [0, 1, 2, 3, 4], [0, 1, 2, 3, 4], [0, 1, 2, 3, 4], [0, 1, 2, 3, 4], [0, 1, 2, 3, 4], [0, 1, 2, 3, 4], [0, 1, 2, 3, 4], [0, 1, 2, 3, 4], [0, 1, 2, 3, 4], [0, 1, 2, 3, 4], [0, 1, 2, 3, 4], [0, 1, 2, 3, 4], [0, 1, 2, 3, 4], [0, 1, 2, 3, 4], [0, 1, 2, 3, 4, 5], [0, 1, 2, 3, 4, 5], [0, 1, 2, 3, 4, 5], [0, 1, 2, 3, 4, 5], [0, 1, 2, 3, 4, 5], [0, 1, 2, 3, 4, 5], [0, 1, 2, 3, 4, 5], [0, 1, 2, 3, 4, 5], [0, 1, 2, 3, 4, 5], [0, 1, 2, 3, 4, 5], [0, 1, 2, 3, 4, 5], [0, 1, 2, 3, 4, 5], [0, 1, 2, 3, 4, 5], [0, 1, 2, 3, 4, 5], [0, 1, 2, 3, 4, 5], [0, 1, 2, 3, 4, 5], [0, 1, 2, 3, 4, 5], [0, 1, 2, 3, 4, 5], [0, 1, 2, 3, 4, 5], [0, 1, 2, 3, 4, 5], [0, 1, 2, 3, 4, 5], [0, 1, 2, 3, 4, 5], [0, 1, 2, 3, 4, 5], [0, 1, 2, 3, 4, 5], [0, 1, 2, 3, 4, 5], [0, 1, 2, 3, 4, 5], [0, 1, 2, 3, 4, 5], [0, 1, 2, 3, 4, 5], [0, 1, 2, 3, 4, 5], [0, 1, 2, 3, 4, 5], [0, 1, 2, 3, 4, 5], [0, 1, 2, 3, 4, 5, 6], [0, 1, 2, 3, 4, 5, 6], [0, 1, 2, 3, 4, 5, 6], [0, 1, 2, 3, 4, 5, 6], [0, 1, 2, 3, 4, 5, 6], [0, 1, 2, 3, 4, 5, 6], [0, 1, 2, 3, 4, 5, 6], [0, 1, 2, 3, 4, 5, 6], [0, 1, 2, 3, 4, 5, 6], [0, 1, 2, 3, 4, 5, 6], [0, 1, 2, 3, 4, 5, 6], [0, 1, 2, 3, 4, 5, 6], [0, 1, 2, 3, 4, 5, 6], [0, 1, 2, 3, 4, 5, 6], [0, 1, 2, 3, 4, 5, 6], [0, 1, 2, 3, 4, 5, 6], [0, 1, 2, 3, 4, 5, 6], [0, 1, 2, 3, 4, 5, 6], [0, 1, 2, 3, 4, 5, 6], [0, 1, 2, 3, 4, 5, 6], [0, 1, 2, 3, 4, 5, 6], [0, 1, 2, 3, 4, 5, 6], [0, 1, 2, 3, 4, 5, 6], [0, 1, 2, 3, 4, 5, 6], [0, 1, 2, 3, 4, 5, 6], [0, 1, 2, 3, 4, 5, 6], [0, 1, 2, 3, 4, 5, 6], [0, 1, 2, 3, 4, 5, 6], [0, 1, 2, 3, 4, 5, 6], [0, 1, 2, 3, 4, 5, 6], [0, 1, 2, 3, 4, 5, 6], [0, 1, 2, 3, 4, 5, 6], [0, 1, 2, 3, 4, 5, 6], [0, 1, 2, 3, 4, 5, 6], [0, 1, 2, 3, 4, 5, 6], [0, 1, 2, 3, 4, 5, 6], [0, 1, 2, 3, 4, 5, 6, 7], [0, 1, 2, 3, 4, 5, 6, 7], [0, 1, 2, 3, 4, 5, 6, 7], [0, 1, 2, 3, 4, 5, 6, 7], [0, 1, 2, 3, 4, 5, 6, 7], [0, 1, 2, 3, 4, 5, 6, 7], [0, 1, 2, 3, 4, 5, 6, 7], [0, 1, 2, 3, 4, 5, 6, 7], [0, 1, 2, 3, 4, 5, 6, 7], [0, 1, 2, 3, 4, 5, 6, 7], [0, 1, 2, 3, 4, 5, 6, 7], [0, 1, 2, 3, 4, 5, 6, 7], [0, 1, 2, 3, 4, 5, 6, 7], [0, 1, 2, 3, 4, 5, 6, 7], [0, 1, 2, 3, 4, 5, 6, 7], [0, 1, 2, 3, 4, 5, 6, 7], [0, 1, 2, 3, 4, 5, 6, 7], [0, 1, 2, 3, 4, 5, 6, 7], [0, 1, 2, 3, 4, 5, 6, 7], [0, 1, 2, 3, 4, 5, 6, 7], [0, 1, 2, 3, 4, 5, 6, 7], [0, 1, 2, 3, 4, 5, 6, 7], [0, 1, 2, 3, 4, 5, 6, 7], [0, 1, 2, 3, 4, 5, 6, 7], [0, 1, 2, 3, 4, 5, 6, 7], [0, 1, 2, 3, 4, 5, 6, 7], [0, 1, 2, 3, 4, 5, 6, 7], [0, 1, 2, 3, 4, 5, 6, 7], [0, 1, 2, 3, 4, 5, 6, 7], [0, 1, 2, 3, 4, 5, 6, 7], [0, 1, 2, 3, 4, 5, 6, 7], [0, 1, 2, 3, 4, 5, 6, 7], [0, 1, 2, 3, 4, 5, 6, 7], [0, 1, 2, 3, 4, 5, 6, 7], [0, 1, 2, 3, 4, 5, 6, 7], [0, 1, 2, 3, 4, 5, 6, 7], [0, 1, 2, 3, 4, 5, 6, 7], [0, 1, 2, 3, 4, 5, 6, 7], [0, 1, 2, 3, 4, 5, 6, 7], [0, 1, 2, 3, 4, 5, 6, 7], [0, 1, 2, 3, 4, 5, 6, 7], [0, 1, 2, 3, 4, 5, 6, 7, 8], [0, 1, 2, 3, 4, 5, 6, 7, 8], [0, 1, 2, 3, 4, 5, 6, 7, 8], [0, 1, 2, 3, 4, 5, 6, 7, 8], [0, 1, 2, 3, 4, 5, 6, 7, 8], [0, 1, 2, 3, 4, 5, 6, 7, 8], [0, 1, 2, 3, 4, 5, 6, 7, 8], [0, 1, 2, 3, 4, 5, 6, 7, 8], [0, 1, 2, 3, 4, 5, 6, 7, 8], [0, 1, 2, 3, 4, 5, 6, 7, 8], [0, 1, 2, 3, 4, 5, 6, 7, 8], [0, 1, 2, 3, 4, 5, 6, 7, 8], [0, 1, 2, 3, 4, 5, 6, 7, 8], [0, 1, 2, 3, 4, 5, 6, 7, 8], [0, 1, 2, 3, 4, 5, 6, 7, 8], [0, 1, 2, 3, 4, 5, 6, 7, 8], [0, 1, 2, 3, 4, 5, 6, 7, 8], [0, 1, 2, 3, 4, 5, 6, 7, 8], [0, 1, 2, 3, 4, 5, 6, 7, 8], [0, 1, 2, 3, 4, 5, 6, 7, 8], [0, 1, 2, 3, 4, 5, 6, 7, 8], [0, 1, 2, 3, 4, 5, 6, 7, 8], [0, 1, 2, 3, 4, 5, 6, 7, 8], [0, 1, 2, 3, 4, 5, 6, 7, 8], [0, 1, 2, 3, 4, 5, 6, 7, 8], [0, 1, 2, 3, 4, 5, 6, 7, 8], [0, 1, 2, 3, 4, 5, 6, 7, 8], [0, 1, 2, 3, 4, 5, 6, 7, 8], [0, 1, 2, 3, 4, 5, 6, 7, 8], [0, 1, 2, 3, 4, 5, 6, 7, 8], [0, 1, 2, 3, 4, 5, 6, 7, 8], [0, 1, 2, 3, 4, 5, 6, 7, 8], [0, 1, 2, 3, 4, 5, 6, 7, 8], [0, 1, 2, 3, 4, 5, 6, 7, 8], [0, 1, 2, 3, 4, 5, 6, 7, 8], [0, 1, 2, 3, 4, 5, 6, 7, 8], [0, 1, 2, 3, 4, 5, 6, 7, 8], [0, 1, 2, 3, 4, 5, 6, 7, 8], [0, 1, 2, 3, 4, 5, 6, 7, 8], [0, 1, 2, 3, 4, 5, 6, 7, 8], [0, 1, 2, 3, 4, 5, 6, 7, 8], [0, 1, 2, 3, 4, 5, 6, 7, 8], [0, 1, 2, 3, 4, 5, 6, 7, 8], [0, 1, 2, 3, 4, 5, 6, 7, 8], [0, 1, 2, 3, 4, 5, 6, 7, 8], [0, 1, 2, 3, 4, 5, 6, 7, 8]]\n"
          ]
        }
      ]
    },
    {
      "cell_type": "markdown",
      "source": [
        "## Advanced Usage"
      ],
      "metadata": {
        "id": "p-Gsw7G_v068"
      }
    },
    {
      "cell_type": "markdown",
      "source": [
        "#### Dictionary Comprehensions"
      ],
      "metadata": {
        "id": "_BfCExSLv4uX"
      }
    },
    {
      "cell_type": "code",
      "source": [
        "squares = {x: x**2 for x in range(-5, 5)}\n",
        "squares"
      ],
      "metadata": {
        "colab": {
          "base_uri": "https://localhost:8080/"
        },
        "id": "NY-xrZ7Av4z5",
        "outputId": "1ba58dba-66b0-498d-f1d6-eaa45b7ceb3f"
      },
      "execution_count": 28,
      "outputs": [
        {
          "output_type": "execute_result",
          "data": {
            "text/plain": [
              "{-5: 25, -4: 16, -3: 9, -2: 4, -1: 1, 0: 0, 1: 1, 2: 4, 3: 9, 4: 16}"
            ]
          },
          "metadata": {},
          "execution_count": 28
        }
      ]
    },
    {
      "cell_type": "markdown",
      "source": [
        "#### Set Comprehensions"
      ],
      "metadata": {
        "id": "921Uf128v45L"
      }
    },
    {
      "cell_type": "code",
      "source": [
        "unique_squares = {x**2 for x in range(-5, 5)}\n",
        "unique_squares"
      ],
      "metadata": {
        "colab": {
          "base_uri": "https://localhost:8080/"
        },
        "id": "6-Xx9h_mv4_T",
        "outputId": "94e8522d-f129-457f-8f1f-977feff848bf"
      },
      "execution_count": 29,
      "outputs": [
        {
          "output_type": "execute_result",
          "data": {
            "text/plain": [
              "{0, 1, 4, 9, 16, 25}"
            ]
          },
          "metadata": {},
          "execution_count": 29
        }
      ]
    },
    {
      "cell_type": "markdown",
      "source": [
        "#### Comprehensions with `zip`\n",
        "\n",
        "* Combining elements from multiple iterables."
      ],
      "metadata": {
        "id": "Qdji39cWv5E0"
      }
    },
    {
      "cell_type": "code",
      "source": [
        "# What is zip?\n",
        "\"\"\"\n",
        "The zip function in Python is used to combine multiple iterables (e.g., lists, tuples) into a single\n",
        "iterable of tuples. Each tuple contains one element from each of the input iterables. The zip function\n",
        "stops when the shortest input iterable is exhausted.\n",
        "\"\"\"\n",
        "list1 = [1, 2, 3]\n",
        "list2 = ['a', 'b', 'c']\n",
        "combined = zip(list1, list2)\n",
        "\n",
        "# Convert the zip object to a list to see the combined pairs\n",
        "combined_list = list(combined)\n",
        "print(combined_list)"
      ],
      "metadata": {
        "colab": {
          "base_uri": "https://localhost:8080/"
        },
        "id": "Yo1LhmeQxmk9",
        "outputId": "29d8045b-06ba-47dc-f393-fa4b7914ecd1"
      },
      "execution_count": 34,
      "outputs": [
        {
          "output_type": "stream",
          "name": "stdout",
          "text": [
            "[(1, 'a'), (2, 'b'), (3, 'c')]\n"
          ]
        }
      ]
    },
    {
      "cell_type": "code",
      "source": [
        "names = ['Alice', 'Bob', 'Charlie']\n",
        "ages = [25, 30, 35]\n",
        "\n",
        "combined = {name: age for name, age in zip(names, ages)}\n",
        "combined"
      ],
      "metadata": {
        "colab": {
          "base_uri": "https://localhost:8080/"
        },
        "id": "pBMkoS04v5KD",
        "outputId": "f66e4a1d-5e6e-47d7-e935-5399177f132a"
      },
      "execution_count": 35,
      "outputs": [
        {
          "output_type": "execute_result",
          "data": {
            "text/plain": [
              "{'Alice': 25, 'Bob': 30, 'Charlie': 35}"
            ]
          },
          "metadata": {},
          "execution_count": 35
        }
      ]
    },
    {
      "cell_type": "markdown",
      "source": [
        "## Try it out yourself!\n",
        "\n",
        "Solve these questions from Python One Liners by Christian Mayer to test what we learnt!"
      ],
      "metadata": {
        "id": "fRals1zD8F-_"
      }
    },
    {
      "cell_type": "markdown",
      "source": [
        "###  FIND WORDS WITH HIGH INFORMATION VALUE\n",
        "\n",
        "Our goal is to solve the following problem: given a multiline\n",
        "string, create a list of lists—each consisting of all the words in\n",
        "a line that have more than three characters."
      ],
      "metadata": {
        "id": "LrwxPkNX8Wkt"
      }
    },
    {
      "cell_type": "code",
      "source": [
        "text = '''\n",
        "Call me Ishmael. Some years ago - never mind how long precisely - having\n",
        "little or no money in my purse, and nothing particular to interest me\n",
        "on shore, I thought I would sail about a little and see the watery part\n",
        "of the world. It is a way I have of driving off the spleen, and regulating\n",
        "the circulation. - Moby Dick'''"
      ],
      "metadata": {
        "id": "Qc7gt9ja8Wsu"
      },
      "execution_count": 47,
      "outputs": []
    },
    {
      "cell_type": "markdown",
      "source": [
        "#### Answer:"
      ],
      "metadata": {
        "id": "pSzVyEep8tK6"
      }
    },
    {
      "cell_type": "code",
      "source": [
        "high_info_words = [[word for word in sentence.split() if len(word)>3] for sentence in text.split('.')]\n",
        "high_info_words"
      ],
      "metadata": {
        "colab": {
          "base_uri": "https://localhost:8080/"
        },
        "id": "HHX7Klgc8waE",
        "outputId": "349e2ce9-030b-4753-84e9-2ee6134fb242"
      },
      "execution_count": 48,
      "outputs": [
        {
          "output_type": "execute_result",
          "data": {
            "text/plain": [
              "[['Call', 'Ishmael'],\n",
              " ['Some',\n",
              "  'years',\n",
              "  'never',\n",
              "  'mind',\n",
              "  'long',\n",
              "  'precisely',\n",
              "  'having',\n",
              "  'little',\n",
              "  'money',\n",
              "  'purse,',\n",
              "  'nothing',\n",
              "  'particular',\n",
              "  'interest',\n",
              "  'shore,',\n",
              "  'thought',\n",
              "  'would',\n",
              "  'sail',\n",
              "  'about',\n",
              "  'little',\n",
              "  'watery',\n",
              "  'part',\n",
              "  'world'],\n",
              " ['have', 'driving', 'spleen,', 'regulating', 'circulation'],\n",
              " ['Moby', 'Dick']]"
            ]
          },
          "metadata": {},
          "execution_count": 48
        }
      ]
    },
    {
      "cell_type": "markdown",
      "source": [
        "### READING A FILE\n",
        "\n",
        "Our goal is to open a file, read all lines, strip the leading and trailing whitespace characters, and store the result in a list.\n",
        "\n",
        "Hint: Run the below code to create an example.txt file\n",
        "\n",
        "\n"
      ],
      "metadata": {
        "id": "tDBsL7TG8W1n"
      }
    },
    {
      "cell_type": "code",
      "source": [
        "import os\n",
        "\n",
        "lorem_ipsum = \"\"\"Lorem ipsum dolor sit amet, consectetur adipiscing elit.\n",
        "Sed do eiusmod tempor incididunt ut labore et dolore magna aliqua.\n",
        "Ut enim ad minim veniam, quis nostrud exercitation ullamco laboris\n",
        "nisi ut aliquip ex ea commodo consequat.\"\"\"\n",
        "\n",
        "current_directory = os.getcwd()\n",
        "file_path = os.path.join(current_directory, \"example.txt\")\n",
        "\n",
        "with open(file_path, \"w\") as file:\n",
        "    file.write(lorem_ipsum)"
      ],
      "metadata": {
        "id": "77GHsnA--_hf"
      },
      "execution_count": 49,
      "outputs": []
    },
    {
      "cell_type": "code",
      "source": [
        "my_file = [line.strip() for line in open('example.txt')]\n",
        "my_file"
      ],
      "metadata": {
        "colab": {
          "base_uri": "https://localhost:8080/"
        },
        "id": "5Vk3s4U88W7y",
        "outputId": "5ccd8646-c263-41e2-9237-cff9d36b4244"
      },
      "execution_count": 52,
      "outputs": [
        {
          "output_type": "execute_result",
          "data": {
            "text/plain": [
              "['Lorem ipsum dolor sit amet, consectetur adipiscing elit.',\n",
              " 'Sed do eiusmod tempor incididunt ut labore et dolore magna aliqua.',\n",
              " 'Ut enim ad minim veniam, quis nostrud exercitation ullamco laboris',\n",
              " 'nisi ut aliquip ex ea commodo consequat.']"
            ]
          },
          "metadata": {},
          "execution_count": 52
        }
      ]
    },
    {
      "cell_type": "markdown",
      "source": [
        "### USING LAMBDA AND MAP FUNCTIONS\n",
        "\n",
        "The map() function then applies the function f on\n",
        "each element in the sequence s. f can be a lambda function.\n",
        "\n",
        "You can check whether a string x contains substring y by using the expression `y in x`\n",
        "\n",
        "When given a list of strings, our next one-liner\n",
        "creates a new list of tuples, each consisting of a Boolean value and the original string. The Boolean value indicates whether the string 'anonymous' appears in the original string! We call the\n",
        "resulting list mark because the Boolean values mark the string elements in the list that contain the string 'anonymous'.\n"
      ],
      "metadata": {
        "id": "XmKhvsnjExIf"
      }
    },
    {
      "cell_type": "code",
      "source": [
        "txt = ['lambda functions are anonymous functions.',\n",
        "       'anonymous functions dont have a name.',\n",
        "       'functions are objects in Python.']"
      ],
      "metadata": {
        "id": "HNCVPPnQFvUo"
      },
      "execution_count": 54,
      "outputs": []
    },
    {
      "cell_type": "code",
      "source": [
        "mark = map(lambda sentence: ('anon' in sentence, sentence), txt)\n",
        "print(list(mark))\n",
        "\n",
        "# OR\n",
        "\n",
        "mark = map(lambda s: (True, s) if 'anonymous' in s else (False, s), txt)\n",
        "print(list(mark))"
      ],
      "metadata": {
        "colab": {
          "base_uri": "https://localhost:8080/"
        },
        "id": "CYH9R9ViFy6m",
        "outputId": "ec383075-b541-48b9-deab-9b7e4f57b8f0"
      },
      "execution_count": 64,
      "outputs": [
        {
          "output_type": "stream",
          "name": "stdout",
          "text": [
            "[(True, 'lambda functions are anonymous functions.'), (True, 'anonymous functions dont have a name.'), (False, 'functions are objects in Python.')]\n",
            "[(True, 'lambda functions are anonymous functions.'), (True, 'anonymous functions dont have a name.'), (False, 'functions are objects in Python.')]\n"
          ]
        }
      ]
    },
    {
      "cell_type": "markdown",
      "source": [
        "### USING SLICING TO EXTRACT MATCHING SUBSTRING ENVIRONMENTS\n",
        "Slicing syntax: `x[start:stop:step]`\n",
        "\n",
        "Our goal is to find a particular text query within a multiline\n",
        "string. You want to find the query in the text and return its\n",
        "immediate environment, up to 18 positions around the found\n",
        "query"
      ],
      "metadata": {
        "id": "mM8qr_peIusj"
      }
    },
    {
      "cell_type": "code",
      "source": [],
      "metadata": {
        "id": "j6iJL6LNHOhZ"
      },
      "execution_count": 63,
      "outputs": []
    },
    {
      "cell_type": "markdown",
      "source": [
        "### COMBINING LIST COMPREHENSION AND SLICING"
      ],
      "metadata": {
        "id": "sh2YfWgdI0Iy"
      }
    },
    {
      "cell_type": "code",
      "source": [],
      "metadata": {
        "id": "WzaGokrBNfUD"
      },
      "execution_count": null,
      "outputs": []
    },
    {
      "cell_type": "markdown",
      "source": [
        "### USING SLICE ASSIGNMENT TO CORRECT CORRUPTED LISTS"
      ],
      "metadata": {
        "id": "ClUnn_vqI135"
      }
    },
    {
      "cell_type": "code",
      "source": [],
      "metadata": {
        "id": "TNF0RlgQNf2r"
      },
      "execution_count": null,
      "outputs": []
    },
    {
      "cell_type": "markdown",
      "source": [
        "### ANALYZING CARDIAC HEALTH DATA WITH LIST CONCATENATION"
      ],
      "metadata": {
        "id": "YtBtiscJI16R"
      }
    },
    {
      "cell_type": "code",
      "source": [],
      "metadata": {
        "id": "PXdW5vb8Ngay"
      },
      "execution_count": null,
      "outputs": []
    },
    {
      "cell_type": "markdown",
      "source": [
        "### USING GENERATOR EXPRESSIONS TO FIND COMPANIES THAT PAY BELOW MINIMUM WAGE"
      ],
      "metadata": {
        "id": "8iYkAC08I18t"
      }
    },
    {
      "cell_type": "code",
      "source": [],
      "metadata": {
        "id": "nFW6pNsANg4K"
      },
      "execution_count": null,
      "outputs": []
    },
    {
      "cell_type": "markdown",
      "source": [
        "### FORMATTING DATABASES WITH THE ZIP() FUNCTION"
      ],
      "metadata": {
        "id": "8PeJFtAgI9dq"
      }
    },
    {
      "cell_type": "code",
      "source": [],
      "metadata": {
        "id": "__l_RlCkNhV_"
      },
      "execution_count": null,
      "outputs": []
    }
  ]
}