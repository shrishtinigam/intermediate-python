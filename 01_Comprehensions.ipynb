{
  "nbformat": 4,
  "nbformat_minor": 0,
  "metadata": {
    "colab": {
      "provenance": [],
      "authorship_tag": "ABX9TyO7abtgSs7ZpgyGF1sJFcOE",
      "include_colab_link": true
    },
    "kernelspec": {
      "name": "python3",
      "display_name": "Python 3"
    },
    "language_info": {
      "name": "python"
    }
  },
  "cells": [
    {
      "cell_type": "markdown",
      "metadata": {
        "id": "view-in-github",
        "colab_type": "text"
      },
      "source": [
        "<a href=\"https://colab.research.google.com/github/shrishtinigam/intermediate-python/blob/main/01_Comprehensions.ipynb\" target=\"_parent\"><img src=\"https://colab.research.google.com/assets/colab-badge.svg\" alt=\"Open In Colab\"/></a>"
      ]
    },
    {
      "cell_type": "markdown",
      "source": [
        "# List Comprehnsions\n",
        "\n",
        " * A list comprehension consists of brackets containing an expression followed by a for clause, then zero or more for or if clauses. The result is a new list resulting from evaluating the expression in the context of the for and if clauses which follow it.\n",
        " * By making code shorter and more concise, you make it more readable without\n",
        "compromising efficiency.\n",
        "\n",
        "\n",
        "```py\n",
        "[ expression + context ]\n",
        "\n",
        "OR\n",
        "\n",
        "[expression for item in iterable if condition]\n",
        "```\n",
        "\n",
        "Watch this video to get a basic understanding:\n",
        "\n",
        "[Python List Comprehensions Made Easy!!](https://youtu.be/dW0m93sU0eg?si=x8yNwtiCfmVgPAwO)\n"
      ],
      "metadata": {
        "id": "Koq4_u7wldXA"
      }
    },
    {
      "cell_type": "markdown",
      "source": [
        "### How List Comprehensions Work\n",
        "Under the hood, list comprehensions are a more readable and succinct way to write for loops. They are `syntactic sugar` for the following for loop:"
      ],
      "metadata": {
        "id": "cfqac8GMl0kK"
      }
    },
    {
      "cell_type": "code",
      "execution_count": 30,
      "metadata": {
        "colab": {
          "base_uri": "https://localhost:8080/"
        },
        "id": "ketlJW_mkjq9",
        "outputId": "b0f1959d-69f9-4292-d120-a6cb50594c6e"
      },
      "outputs": [
        {
          "output_type": "stream",
          "name": "stdout",
          "text": [
            "[0, 1, 4, 9, 16, 25, 36, 49, 64, 81]\n"
          ]
        }
      ],
      "source": [
        "squares = [x**2 for x in range(10)]\n",
        "print(squares)"
      ]
    },
    {
      "cell_type": "code",
      "source": [
        "squares = []\n",
        "for x in range(10):\n",
        "    squares.append(x**2)"
      ],
      "metadata": {
        "id": "Jwbl4JBsl5Ma"
      },
      "execution_count": 31,
      "outputs": []
    },
    {
      "cell_type": "markdown",
      "source": [
        "## Different Ways to Use List Comprehensions"
      ],
      "metadata": {
        "id": "_nZiJLIAm6-i"
      }
    },
    {
      "cell_type": "markdown",
      "source": [
        "#### Simple List Comprehension"
      ],
      "metadata": {
        "id": "gUqgWS8Cqol6"
      }
    },
    {
      "cell_type": "code",
      "source": [
        "squares = [x**2 for x in range(10)]\n",
        "squares"
      ],
      "metadata": {
        "colab": {
          "base_uri": "https://localhost:8080/"
        },
        "id": "EZG60ysim_iB",
        "outputId": "1a4ed0e6-ab75-486e-943f-5b4083f44b5c"
      },
      "execution_count": 32,
      "outputs": [
        {
          "output_type": "execute_result",
          "data": {
            "text/plain": [
              "[0, 1, 4, 9, 16, 25, 36, 49, 64, 81]"
            ]
          },
          "metadata": {},
          "execution_count": 32
        }
      ]
    },
    {
      "cell_type": "code",
      "source": [
        "lower_case = [x.lower() for x in ['I', 'AM', 'NOT', 'SHOUTING']]\n",
        "lower_case"
      ],
      "metadata": {
        "colab": {
          "base_uri": "https://localhost:8080/"
        },
        "id": "viIkQdbZ64k9",
        "outputId": "96369f25-77c9-42dd-a20d-72418e0125d4"
      },
      "execution_count": 33,
      "outputs": [
        {
          "output_type": "execute_result",
          "data": {
            "text/plain": [
              "['i', 'am', 'not', 'shouting']"
            ]
          },
          "metadata": {},
          "execution_count": 33
        }
      ]
    },
    {
      "cell_type": "code",
      "source": [
        "# On a dictionary\n",
        "employees = {'Alice' : 100000,\n",
        "             'Bob' : 99817,\n",
        "             'Carol' : 122908,\n",
        "             'Frank' : 88123,\n",
        "             'Eve' : 93121}\n",
        "## One-Liner\n",
        "top_earners = [(k, v) for k, v in employees.items() if v >= 100000]\n",
        "top_earners"
      ],
      "metadata": {
        "colab": {
          "base_uri": "https://localhost:8080/"
        },
        "id": "RM-dOHjf7QtU",
        "outputId": "1638cc4c-1d28-49b1-f710-4e8fc61fd1e7"
      },
      "execution_count": 34,
      "outputs": [
        {
          "output_type": "execute_result",
          "data": {
            "text/plain": [
              "[('Alice', 100000), ('Carol', 122908)]"
            ]
          },
          "metadata": {},
          "execution_count": 34
        }
      ]
    },
    {
      "cell_type": "markdown",
      "source": [
        "#### List Comprehension with Conditionals"
      ],
      "metadata": {
        "id": "lMrBLDpwqrFD"
      }
    },
    {
      "cell_type": "code",
      "source": [
        "evens = [x for x in range(10) if x % 2 == 0]\n",
        "evens"
      ],
      "metadata": {
        "colab": {
          "base_uri": "https://localhost:8080/"
        },
        "id": "Vg538Z75nAFB",
        "outputId": "49e63b5b-0294-4fe5-81a6-b8dba0674952"
      },
      "execution_count": 35,
      "outputs": [
        {
          "output_type": "execute_result",
          "data": {
            "text/plain": [
              "[0, 2, 4, 6, 8]"
            ]
          },
          "metadata": {},
          "execution_count": 35
        }
      ]
    },
    {
      "cell_type": "markdown",
      "source": [
        "#### Nested List Comprehensions\n",
        "* Useful for multidimensional data structures, such as matrices."
      ],
      "metadata": {
        "id": "0AH3IaMLqt4V"
      }
    },
    {
      "cell_type": "code",
      "source": [
        "matrix = [[i+j for j in range(3)] for i in range(3)]\n",
        "matrix"
      ],
      "metadata": {
        "colab": {
          "base_uri": "https://localhost:8080/"
        },
        "id": "zSx-uqPRnAJR",
        "outputId": "d5a4ca1f-752a-46e3-885d-6b55f2d7d932"
      },
      "execution_count": 36,
      "outputs": [
        {
          "output_type": "execute_result",
          "data": {
            "text/plain": [
              "[[0, 1, 2], [1, 2, 3], [2, 3, 4]]"
            ]
          },
          "metadata": {},
          "execution_count": 36
        }
      ]
    },
    {
      "cell_type": "code",
      "source": [
        "# Translation of above list comprehension\n",
        "matrix = []\n",
        "for i in range(3):\n",
        "    inner_list = []\n",
        "    for j in range(3):\n",
        "        inner_list.append(i + j)\n",
        "    matrix.append(inner_list)\n",
        "\n",
        "print(matrix)"
      ],
      "metadata": {
        "colab": {
          "base_uri": "https://localhost:8080/"
        },
        "id": "rSIToLLvoxQR",
        "outputId": "cafa38ae-f8f7-4057-f8f3-af3e02f46744"
      },
      "execution_count": 37,
      "outputs": [
        {
          "output_type": "stream",
          "name": "stdout",
          "text": [
            "[[0, 1, 2], [1, 2, 3], [2, 3, 4]]\n"
          ]
        }
      ]
    },
    {
      "cell_type": "markdown",
      "source": [
        "#### List Comprehension with Multiple for Clauses\n",
        "* Best for generating combinations or Cartesian products."
      ],
      "metadata": {
        "id": "jSLv8bShq0t-"
      }
    },
    {
      "cell_type": "code",
      "source": [
        "pairs = [(i, j) for i in range(3) for j in range(3)]\n",
        "pairs"
      ],
      "metadata": {
        "colab": {
          "base_uri": "https://localhost:8080/"
        },
        "id": "ihmH76_snMaV",
        "outputId": "97006460-54f9-4dfd-f313-2ae9e0973213"
      },
      "execution_count": 38,
      "outputs": [
        {
          "output_type": "execute_result",
          "data": {
            "text/plain": [
              "[(0, 0), (0, 1), (0, 2), (1, 0), (1, 1), (1, 2), (2, 0), (2, 1), (2, 2)]"
            ]
          },
          "metadata": {},
          "execution_count": 38
        }
      ]
    },
    {
      "cell_type": "code",
      "source": [
        "# Translation of above list comprehension\n",
        "pairs = []\n",
        "for i in range(3):\n",
        "    for j in range(3):\n",
        "        pairs.append((i, j))\n",
        "\n",
        "print(pairs)"
      ],
      "metadata": {
        "colab": {
          "base_uri": "https://localhost:8080/"
        },
        "id": "JOB2_bBTo1i-",
        "outputId": "85150549-e020-402d-8902-d25fef9db4c0"
      },
      "execution_count": 39,
      "outputs": [
        {
          "output_type": "stream",
          "name": "stdout",
          "text": [
            "[(0, 0), (0, 1), (0, 2), (1, 0), (1, 1), (1, 2), (2, 0), (2, 1), (2, 2)]\n"
          ]
        }
      ]
    },
    {
      "cell_type": "markdown",
      "source": [
        "#### Using Functions in List Comprehensions"
      ],
      "metadata": {
        "id": "swW_slpNq39F"
      }
    },
    {
      "cell_type": "code",
      "source": [
        "def square(x):\n",
        "    return x**2\n",
        "\n",
        "squares = [square(x) for x in range(10)]\n",
        "squares"
      ],
      "metadata": {
        "colab": {
          "base_uri": "https://localhost:8080/"
        },
        "id": "gx-gqPMEnMdQ",
        "outputId": "1aefae56-7a27-4e9f-9d3c-0ddf737634fd"
      },
      "execution_count": 40,
      "outputs": [
        {
          "output_type": "execute_result",
          "data": {
            "text/plain": [
              "[0, 1, 4, 9, 16, 25, 36, 49, 64, 81]"
            ]
          },
          "metadata": {},
          "execution_count": 40
        }
      ]
    },
    {
      "cell_type": "markdown",
      "source": [
        "## Common Mistakes and Pitfalls"
      ],
      "metadata": {
        "id": "Ox3xCaDDqhKE"
      }
    },
    {
      "cell_type": "markdown",
      "source": [
        "### Misunderstanding Scope\n",
        "* Variables defined in the list comprehension are local to the comprehension."
      ],
      "metadata": {
        "id": "yBoXNpN4rCRE"
      }
    },
    {
      "cell_type": "code",
      "source": [
        "x = 10\n",
        "squares = [x**2 for x in range(10)]\n",
        "print(x)  # Output: 10 (not modified)"
      ],
      "metadata": {
        "colab": {
          "base_uri": "https://localhost:8080/"
        },
        "id": "9j3LhrlToUMo",
        "outputId": "86d613b4-d6c5-4258-d951-71fdbee55d84"
      },
      "execution_count": 41,
      "outputs": [
        {
          "output_type": "stream",
          "name": "stdout",
          "text": [
            "10\n"
          ]
        }
      ]
    },
    {
      "cell_type": "markdown",
      "source": [
        "### Using Complex Expressions\n",
        "* List comprehensions are meant for readability. Complex expressions can make them hard to read."
      ],
      "metadata": {
        "id": "znTQPLUkrq1v"
      }
    },
    {
      "cell_type": "code",
      "source": [
        "# Hard to read\n",
        "result = [(x, y) for x in range(3) for y in range(3) if x != y]\n",
        "\n",
        "# More readable\n",
        "result = []\n",
        "for x in range(3):\n",
        "    for y in range(3):\n",
        "        if x != y:\n",
        "            result.append((x, y))"
      ],
      "metadata": {
        "id": "1xKcll09nMgZ"
      },
      "execution_count": 42,
      "outputs": []
    },
    {
      "cell_type": "markdown",
      "source": [
        "### Memory Issues [!IMP]\n",
        "\n",
        "* List comprehensions can be very memory-efficient for small to moderately sized datasets.\n",
        "* However, they can lead to significant memory usage problems when dealing with large datasets.\n",
        "* List comprehensions evaluate the expression and generate the entire list in memory immediately.\n",
        "* I.e., list comprehensions create an **entire list in memory all at once**.\n",
        "\n",
        "\n"
      ],
      "metadata": {
        "id": "2oFBNuN0suOa"
      }
    },
    {
      "cell_type": "code",
      "source": [
        "squares = [x**2 for x in range(10000000)]\n",
        "squares"
      ],
      "metadata": {
        "colab": {
          "base_uri": "https://localhost:8080/"
        },
        "id": "mco2cENazmhx",
        "outputId": "46658bcc-d246-4e9d-80aa-271b22d3099e"
      },
      "execution_count": 43,
      "outputs": [
        {
          "output_type": "execute_result",
          "data": {
            "text/plain": [
              "[0,\n",
              " 1,\n",
              " 4,\n",
              " 9,\n",
              " 16,\n",
              " 25,\n",
              " 36,\n",
              " 49,\n",
              " 64,\n",
              " 81,\n",
              " 100,\n",
              " 121,\n",
              " 144,\n",
              " 169,\n",
              " 196,\n",
              " 225,\n",
              " 256,\n",
              " 289,\n",
              " 324,\n",
              " 361,\n",
              " 400,\n",
              " 441,\n",
              " 484,\n",
              " 529,\n",
              " 576,\n",
              " 625,\n",
              " 676,\n",
              " 729,\n",
              " 784,\n",
              " 841,\n",
              " 900,\n",
              " 961,\n",
              " 1024,\n",
              " 1089,\n",
              " 1156,\n",
              " 1225,\n",
              " 1296,\n",
              " 1369,\n",
              " 1444,\n",
              " 1521,\n",
              " 1600,\n",
              " 1681,\n",
              " 1764,\n",
              " 1849,\n",
              " 1936,\n",
              " 2025,\n",
              " 2116,\n",
              " 2209,\n",
              " 2304,\n",
              " 2401,\n",
              " 2500,\n",
              " 2601,\n",
              " 2704,\n",
              " 2809,\n",
              " 2916,\n",
              " 3025,\n",
              " 3136,\n",
              " 3249,\n",
              " 3364,\n",
              " 3481,\n",
              " 3600,\n",
              " 3721,\n",
              " 3844,\n",
              " 3969,\n",
              " 4096,\n",
              " 4225,\n",
              " 4356,\n",
              " 4489,\n",
              " 4624,\n",
              " 4761,\n",
              " 4900,\n",
              " 5041,\n",
              " 5184,\n",
              " 5329,\n",
              " 5476,\n",
              " 5625,\n",
              " 5776,\n",
              " 5929,\n",
              " 6084,\n",
              " 6241,\n",
              " 6400,\n",
              " 6561,\n",
              " 6724,\n",
              " 6889,\n",
              " 7056,\n",
              " 7225,\n",
              " 7396,\n",
              " 7569,\n",
              " 7744,\n",
              " 7921,\n",
              " 8100,\n",
              " 8281,\n",
              " 8464,\n",
              " 8649,\n",
              " 8836,\n",
              " 9025,\n",
              " 9216,\n",
              " 9409,\n",
              " 9604,\n",
              " 9801,\n",
              " 10000,\n",
              " 10201,\n",
              " 10404,\n",
              " 10609,\n",
              " 10816,\n",
              " 11025,\n",
              " 11236,\n",
              " 11449,\n",
              " 11664,\n",
              " 11881,\n",
              " 12100,\n",
              " 12321,\n",
              " 12544,\n",
              " 12769,\n",
              " 12996,\n",
              " 13225,\n",
              " 13456,\n",
              " 13689,\n",
              " 13924,\n",
              " 14161,\n",
              " 14400,\n",
              " 14641,\n",
              " 14884,\n",
              " 15129,\n",
              " 15376,\n",
              " 15625,\n",
              " 15876,\n",
              " 16129,\n",
              " 16384,\n",
              " 16641,\n",
              " 16900,\n",
              " 17161,\n",
              " 17424,\n",
              " 17689,\n",
              " 17956,\n",
              " 18225,\n",
              " 18496,\n",
              " 18769,\n",
              " 19044,\n",
              " 19321,\n",
              " 19600,\n",
              " 19881,\n",
              " 20164,\n",
              " 20449,\n",
              " 20736,\n",
              " 21025,\n",
              " 21316,\n",
              " 21609,\n",
              " 21904,\n",
              " 22201,\n",
              " 22500,\n",
              " 22801,\n",
              " 23104,\n",
              " 23409,\n",
              " 23716,\n",
              " 24025,\n",
              " 24336,\n",
              " 24649,\n",
              " 24964,\n",
              " 25281,\n",
              " 25600,\n",
              " 25921,\n",
              " 26244,\n",
              " 26569,\n",
              " 26896,\n",
              " 27225,\n",
              " 27556,\n",
              " 27889,\n",
              " 28224,\n",
              " 28561,\n",
              " 28900,\n",
              " 29241,\n",
              " 29584,\n",
              " 29929,\n",
              " 30276,\n",
              " 30625,\n",
              " 30976,\n",
              " 31329,\n",
              " 31684,\n",
              " 32041,\n",
              " 32400,\n",
              " 32761,\n",
              " 33124,\n",
              " 33489,\n",
              " 33856,\n",
              " 34225,\n",
              " 34596,\n",
              " 34969,\n",
              " 35344,\n",
              " 35721,\n",
              " 36100,\n",
              " 36481,\n",
              " 36864,\n",
              " 37249,\n",
              " 37636,\n",
              " 38025,\n",
              " 38416,\n",
              " 38809,\n",
              " 39204,\n",
              " 39601,\n",
              " 40000,\n",
              " 40401,\n",
              " 40804,\n",
              " 41209,\n",
              " 41616,\n",
              " 42025,\n",
              " 42436,\n",
              " 42849,\n",
              " 43264,\n",
              " 43681,\n",
              " 44100,\n",
              " 44521,\n",
              " 44944,\n",
              " 45369,\n",
              " 45796,\n",
              " 46225,\n",
              " 46656,\n",
              " 47089,\n",
              " 47524,\n",
              " 47961,\n",
              " 48400,\n",
              " 48841,\n",
              " 49284,\n",
              " 49729,\n",
              " 50176,\n",
              " 50625,\n",
              " 51076,\n",
              " 51529,\n",
              " 51984,\n",
              " 52441,\n",
              " 52900,\n",
              " 53361,\n",
              " 53824,\n",
              " 54289,\n",
              " 54756,\n",
              " 55225,\n",
              " 55696,\n",
              " 56169,\n",
              " 56644,\n",
              " 57121,\n",
              " 57600,\n",
              " 58081,\n",
              " 58564,\n",
              " 59049,\n",
              " 59536,\n",
              " 60025,\n",
              " 60516,\n",
              " 61009,\n",
              " 61504,\n",
              " 62001,\n",
              " 62500,\n",
              " 63001,\n",
              " 63504,\n",
              " 64009,\n",
              " 64516,\n",
              " 65025,\n",
              " 65536,\n",
              " 66049,\n",
              " 66564,\n",
              " 67081,\n",
              " 67600,\n",
              " 68121,\n",
              " 68644,\n",
              " 69169,\n",
              " 69696,\n",
              " 70225,\n",
              " 70756,\n",
              " 71289,\n",
              " 71824,\n",
              " 72361,\n",
              " 72900,\n",
              " 73441,\n",
              " 73984,\n",
              " 74529,\n",
              " 75076,\n",
              " 75625,\n",
              " 76176,\n",
              " 76729,\n",
              " 77284,\n",
              " 77841,\n",
              " 78400,\n",
              " 78961,\n",
              " 79524,\n",
              " 80089,\n",
              " 80656,\n",
              " 81225,\n",
              " 81796,\n",
              " 82369,\n",
              " 82944,\n",
              " 83521,\n",
              " 84100,\n",
              " 84681,\n",
              " 85264,\n",
              " 85849,\n",
              " 86436,\n",
              " 87025,\n",
              " 87616,\n",
              " 88209,\n",
              " 88804,\n",
              " 89401,\n",
              " 90000,\n",
              " 90601,\n",
              " 91204,\n",
              " 91809,\n",
              " 92416,\n",
              " 93025,\n",
              " 93636,\n",
              " 94249,\n",
              " 94864,\n",
              " 95481,\n",
              " 96100,\n",
              " 96721,\n",
              " 97344,\n",
              " 97969,\n",
              " 98596,\n",
              " 99225,\n",
              " 99856,\n",
              " 100489,\n",
              " 101124,\n",
              " 101761,\n",
              " 102400,\n",
              " 103041,\n",
              " 103684,\n",
              " 104329,\n",
              " 104976,\n",
              " 105625,\n",
              " 106276,\n",
              " 106929,\n",
              " 107584,\n",
              " 108241,\n",
              " 108900,\n",
              " 109561,\n",
              " 110224,\n",
              " 110889,\n",
              " 111556,\n",
              " 112225,\n",
              " 112896,\n",
              " 113569,\n",
              " 114244,\n",
              " 114921,\n",
              " 115600,\n",
              " 116281,\n",
              " 116964,\n",
              " 117649,\n",
              " 118336,\n",
              " 119025,\n",
              " 119716,\n",
              " 120409,\n",
              " 121104,\n",
              " 121801,\n",
              " 122500,\n",
              " 123201,\n",
              " 123904,\n",
              " 124609,\n",
              " 125316,\n",
              " 126025,\n",
              " 126736,\n",
              " 127449,\n",
              " 128164,\n",
              " 128881,\n",
              " 129600,\n",
              " 130321,\n",
              " 131044,\n",
              " 131769,\n",
              " 132496,\n",
              " 133225,\n",
              " 133956,\n",
              " 134689,\n",
              " 135424,\n",
              " 136161,\n",
              " 136900,\n",
              " 137641,\n",
              " 138384,\n",
              " 139129,\n",
              " 139876,\n",
              " 140625,\n",
              " 141376,\n",
              " 142129,\n",
              " 142884,\n",
              " 143641,\n",
              " 144400,\n",
              " 145161,\n",
              " 145924,\n",
              " 146689,\n",
              " 147456,\n",
              " 148225,\n",
              " 148996,\n",
              " 149769,\n",
              " 150544,\n",
              " 151321,\n",
              " 152100,\n",
              " 152881,\n",
              " 153664,\n",
              " 154449,\n",
              " 155236,\n",
              " 156025,\n",
              " 156816,\n",
              " 157609,\n",
              " 158404,\n",
              " 159201,\n",
              " 160000,\n",
              " 160801,\n",
              " 161604,\n",
              " 162409,\n",
              " 163216,\n",
              " 164025,\n",
              " 164836,\n",
              " 165649,\n",
              " 166464,\n",
              " 167281,\n",
              " 168100,\n",
              " 168921,\n",
              " 169744,\n",
              " 170569,\n",
              " 171396,\n",
              " 172225,\n",
              " 173056,\n",
              " 173889,\n",
              " 174724,\n",
              " 175561,\n",
              " 176400,\n",
              " 177241,\n",
              " 178084,\n",
              " 178929,\n",
              " 179776,\n",
              " 180625,\n",
              " 181476,\n",
              " 182329,\n",
              " 183184,\n",
              " 184041,\n",
              " 184900,\n",
              " 185761,\n",
              " 186624,\n",
              " 187489,\n",
              " 188356,\n",
              " 189225,\n",
              " 190096,\n",
              " 190969,\n",
              " 191844,\n",
              " 192721,\n",
              " 193600,\n",
              " 194481,\n",
              " 195364,\n",
              " 196249,\n",
              " 197136,\n",
              " 198025,\n",
              " 198916,\n",
              " 199809,\n",
              " 200704,\n",
              " 201601,\n",
              " 202500,\n",
              " 203401,\n",
              " 204304,\n",
              " 205209,\n",
              " 206116,\n",
              " 207025,\n",
              " 207936,\n",
              " 208849,\n",
              " 209764,\n",
              " 210681,\n",
              " 211600,\n",
              " 212521,\n",
              " 213444,\n",
              " 214369,\n",
              " 215296,\n",
              " 216225,\n",
              " 217156,\n",
              " 218089,\n",
              " 219024,\n",
              " 219961,\n",
              " 220900,\n",
              " 221841,\n",
              " 222784,\n",
              " 223729,\n",
              " 224676,\n",
              " 225625,\n",
              " 226576,\n",
              " 227529,\n",
              " 228484,\n",
              " 229441,\n",
              " 230400,\n",
              " 231361,\n",
              " 232324,\n",
              " 233289,\n",
              " 234256,\n",
              " 235225,\n",
              " 236196,\n",
              " 237169,\n",
              " 238144,\n",
              " 239121,\n",
              " 240100,\n",
              " 241081,\n",
              " 242064,\n",
              " 243049,\n",
              " 244036,\n",
              " 245025,\n",
              " 246016,\n",
              " 247009,\n",
              " 248004,\n",
              " 249001,\n",
              " 250000,\n",
              " 251001,\n",
              " 252004,\n",
              " 253009,\n",
              " 254016,\n",
              " 255025,\n",
              " 256036,\n",
              " 257049,\n",
              " 258064,\n",
              " 259081,\n",
              " 260100,\n",
              " 261121,\n",
              " 262144,\n",
              " 263169,\n",
              " 264196,\n",
              " 265225,\n",
              " 266256,\n",
              " 267289,\n",
              " 268324,\n",
              " 269361,\n",
              " 270400,\n",
              " 271441,\n",
              " 272484,\n",
              " 273529,\n",
              " 274576,\n",
              " 275625,\n",
              " 276676,\n",
              " 277729,\n",
              " 278784,\n",
              " 279841,\n",
              " 280900,\n",
              " 281961,\n",
              " 283024,\n",
              " 284089,\n",
              " 285156,\n",
              " 286225,\n",
              " 287296,\n",
              " 288369,\n",
              " 289444,\n",
              " 290521,\n",
              " 291600,\n",
              " 292681,\n",
              " 293764,\n",
              " 294849,\n",
              " 295936,\n",
              " 297025,\n",
              " 298116,\n",
              " 299209,\n",
              " 300304,\n",
              " 301401,\n",
              " 302500,\n",
              " 303601,\n",
              " 304704,\n",
              " 305809,\n",
              " 306916,\n",
              " 308025,\n",
              " 309136,\n",
              " 310249,\n",
              " 311364,\n",
              " 312481,\n",
              " 313600,\n",
              " 314721,\n",
              " 315844,\n",
              " 316969,\n",
              " 318096,\n",
              " 319225,\n",
              " 320356,\n",
              " 321489,\n",
              " 322624,\n",
              " 323761,\n",
              " 324900,\n",
              " 326041,\n",
              " 327184,\n",
              " 328329,\n",
              " 329476,\n",
              " 330625,\n",
              " 331776,\n",
              " 332929,\n",
              " 334084,\n",
              " 335241,\n",
              " 336400,\n",
              " 337561,\n",
              " 338724,\n",
              " 339889,\n",
              " 341056,\n",
              " 342225,\n",
              " 343396,\n",
              " 344569,\n",
              " 345744,\n",
              " 346921,\n",
              " 348100,\n",
              " 349281,\n",
              " 350464,\n",
              " 351649,\n",
              " 352836,\n",
              " 354025,\n",
              " 355216,\n",
              " 356409,\n",
              " 357604,\n",
              " 358801,\n",
              " 360000,\n",
              " 361201,\n",
              " 362404,\n",
              " 363609,\n",
              " 364816,\n",
              " 366025,\n",
              " 367236,\n",
              " 368449,\n",
              " 369664,\n",
              " 370881,\n",
              " 372100,\n",
              " 373321,\n",
              " 374544,\n",
              " 375769,\n",
              " 376996,\n",
              " 378225,\n",
              " 379456,\n",
              " 380689,\n",
              " 381924,\n",
              " 383161,\n",
              " 384400,\n",
              " 385641,\n",
              " 386884,\n",
              " 388129,\n",
              " 389376,\n",
              " 390625,\n",
              " 391876,\n",
              " 393129,\n",
              " 394384,\n",
              " 395641,\n",
              " 396900,\n",
              " 398161,\n",
              " 399424,\n",
              " 400689,\n",
              " 401956,\n",
              " 403225,\n",
              " 404496,\n",
              " 405769,\n",
              " 407044,\n",
              " 408321,\n",
              " 409600,\n",
              " 410881,\n",
              " 412164,\n",
              " 413449,\n",
              " 414736,\n",
              " 416025,\n",
              " 417316,\n",
              " 418609,\n",
              " 419904,\n",
              " 421201,\n",
              " 422500,\n",
              " 423801,\n",
              " 425104,\n",
              " 426409,\n",
              " 427716,\n",
              " 429025,\n",
              " 430336,\n",
              " 431649,\n",
              " 432964,\n",
              " 434281,\n",
              " 435600,\n",
              " 436921,\n",
              " 438244,\n",
              " 439569,\n",
              " 440896,\n",
              " 442225,\n",
              " 443556,\n",
              " 444889,\n",
              " 446224,\n",
              " 447561,\n",
              " 448900,\n",
              " 450241,\n",
              " 451584,\n",
              " 452929,\n",
              " 454276,\n",
              " 455625,\n",
              " 456976,\n",
              " 458329,\n",
              " 459684,\n",
              " 461041,\n",
              " 462400,\n",
              " 463761,\n",
              " 465124,\n",
              " 466489,\n",
              " 467856,\n",
              " 469225,\n",
              " 470596,\n",
              " 471969,\n",
              " 473344,\n",
              " 474721,\n",
              " 476100,\n",
              " 477481,\n",
              " 478864,\n",
              " 480249,\n",
              " 481636,\n",
              " 483025,\n",
              " 484416,\n",
              " 485809,\n",
              " 487204,\n",
              " 488601,\n",
              " 490000,\n",
              " 491401,\n",
              " 492804,\n",
              " 494209,\n",
              " 495616,\n",
              " 497025,\n",
              " 498436,\n",
              " 499849,\n",
              " 501264,\n",
              " 502681,\n",
              " 504100,\n",
              " 505521,\n",
              " 506944,\n",
              " 508369,\n",
              " 509796,\n",
              " 511225,\n",
              " 512656,\n",
              " 514089,\n",
              " 515524,\n",
              " 516961,\n",
              " 518400,\n",
              " 519841,\n",
              " 521284,\n",
              " 522729,\n",
              " 524176,\n",
              " 525625,\n",
              " 527076,\n",
              " 528529,\n",
              " 529984,\n",
              " 531441,\n",
              " 532900,\n",
              " 534361,\n",
              " 535824,\n",
              " 537289,\n",
              " 538756,\n",
              " 540225,\n",
              " 541696,\n",
              " 543169,\n",
              " 544644,\n",
              " 546121,\n",
              " 547600,\n",
              " 549081,\n",
              " 550564,\n",
              " 552049,\n",
              " 553536,\n",
              " 555025,\n",
              " 556516,\n",
              " 558009,\n",
              " 559504,\n",
              " 561001,\n",
              " 562500,\n",
              " 564001,\n",
              " 565504,\n",
              " 567009,\n",
              " 568516,\n",
              " 570025,\n",
              " 571536,\n",
              " 573049,\n",
              " 574564,\n",
              " 576081,\n",
              " 577600,\n",
              " 579121,\n",
              " 580644,\n",
              " 582169,\n",
              " 583696,\n",
              " 585225,\n",
              " 586756,\n",
              " 588289,\n",
              " 589824,\n",
              " 591361,\n",
              " 592900,\n",
              " 594441,\n",
              " 595984,\n",
              " 597529,\n",
              " 599076,\n",
              " 600625,\n",
              " 602176,\n",
              " 603729,\n",
              " 605284,\n",
              " 606841,\n",
              " 608400,\n",
              " 609961,\n",
              " 611524,\n",
              " 613089,\n",
              " 614656,\n",
              " 616225,\n",
              " 617796,\n",
              " 619369,\n",
              " 620944,\n",
              " 622521,\n",
              " 624100,\n",
              " 625681,\n",
              " 627264,\n",
              " 628849,\n",
              " 630436,\n",
              " 632025,\n",
              " 633616,\n",
              " 635209,\n",
              " 636804,\n",
              " 638401,\n",
              " 640000,\n",
              " 641601,\n",
              " 643204,\n",
              " 644809,\n",
              " 646416,\n",
              " 648025,\n",
              " 649636,\n",
              " 651249,\n",
              " 652864,\n",
              " 654481,\n",
              " 656100,\n",
              " 657721,\n",
              " 659344,\n",
              " 660969,\n",
              " 662596,\n",
              " 664225,\n",
              " 665856,\n",
              " 667489,\n",
              " 669124,\n",
              " 670761,\n",
              " 672400,\n",
              " 674041,\n",
              " 675684,\n",
              " 677329,\n",
              " 678976,\n",
              " 680625,\n",
              " 682276,\n",
              " 683929,\n",
              " 685584,\n",
              " 687241,\n",
              " 688900,\n",
              " 690561,\n",
              " 692224,\n",
              " 693889,\n",
              " 695556,\n",
              " 697225,\n",
              " 698896,\n",
              " 700569,\n",
              " 702244,\n",
              " 703921,\n",
              " 705600,\n",
              " 707281,\n",
              " 708964,\n",
              " 710649,\n",
              " 712336,\n",
              " 714025,\n",
              " 715716,\n",
              " 717409,\n",
              " 719104,\n",
              " 720801,\n",
              " 722500,\n",
              " 724201,\n",
              " 725904,\n",
              " 727609,\n",
              " 729316,\n",
              " 731025,\n",
              " 732736,\n",
              " 734449,\n",
              " 736164,\n",
              " 737881,\n",
              " 739600,\n",
              " 741321,\n",
              " 743044,\n",
              " 744769,\n",
              " 746496,\n",
              " 748225,\n",
              " 749956,\n",
              " 751689,\n",
              " 753424,\n",
              " 755161,\n",
              " 756900,\n",
              " 758641,\n",
              " 760384,\n",
              " 762129,\n",
              " 763876,\n",
              " 765625,\n",
              " 767376,\n",
              " 769129,\n",
              " 770884,\n",
              " 772641,\n",
              " 774400,\n",
              " 776161,\n",
              " 777924,\n",
              " 779689,\n",
              " 781456,\n",
              " 783225,\n",
              " 784996,\n",
              " 786769,\n",
              " 788544,\n",
              " 790321,\n",
              " 792100,\n",
              " 793881,\n",
              " 795664,\n",
              " 797449,\n",
              " 799236,\n",
              " 801025,\n",
              " 802816,\n",
              " 804609,\n",
              " 806404,\n",
              " 808201,\n",
              " 810000,\n",
              " 811801,\n",
              " 813604,\n",
              " 815409,\n",
              " 817216,\n",
              " 819025,\n",
              " 820836,\n",
              " 822649,\n",
              " 824464,\n",
              " 826281,\n",
              " 828100,\n",
              " 829921,\n",
              " 831744,\n",
              " 833569,\n",
              " 835396,\n",
              " 837225,\n",
              " 839056,\n",
              " 840889,\n",
              " 842724,\n",
              " 844561,\n",
              " 846400,\n",
              " 848241,\n",
              " 850084,\n",
              " 851929,\n",
              " 853776,\n",
              " 855625,\n",
              " 857476,\n",
              " 859329,\n",
              " 861184,\n",
              " 863041,\n",
              " 864900,\n",
              " 866761,\n",
              " 868624,\n",
              " 870489,\n",
              " 872356,\n",
              " 874225,\n",
              " 876096,\n",
              " 877969,\n",
              " 879844,\n",
              " 881721,\n",
              " 883600,\n",
              " 885481,\n",
              " 887364,\n",
              " 889249,\n",
              " 891136,\n",
              " 893025,\n",
              " 894916,\n",
              " 896809,\n",
              " 898704,\n",
              " 900601,\n",
              " 902500,\n",
              " 904401,\n",
              " 906304,\n",
              " 908209,\n",
              " 910116,\n",
              " 912025,\n",
              " 913936,\n",
              " 915849,\n",
              " 917764,\n",
              " 919681,\n",
              " 921600,\n",
              " 923521,\n",
              " 925444,\n",
              " 927369,\n",
              " 929296,\n",
              " 931225,\n",
              " 933156,\n",
              " 935089,\n",
              " 937024,\n",
              " 938961,\n",
              " 940900,\n",
              " 942841,\n",
              " 944784,\n",
              " 946729,\n",
              " 948676,\n",
              " 950625,\n",
              " 952576,\n",
              " 954529,\n",
              " 956484,\n",
              " 958441,\n",
              " 960400,\n",
              " 962361,\n",
              " 964324,\n",
              " 966289,\n",
              " 968256,\n",
              " 970225,\n",
              " 972196,\n",
              " 974169,\n",
              " 976144,\n",
              " 978121,\n",
              " 980100,\n",
              " 982081,\n",
              " 984064,\n",
              " 986049,\n",
              " 988036,\n",
              " 990025,\n",
              " 992016,\n",
              " 994009,\n",
              " 996004,\n",
              " 998001,\n",
              " ...]"
            ]
          },
          "metadata": {},
          "execution_count": 43
        }
      ]
    },
    {
      "cell_type": "markdown",
      "source": [
        "#### Generators as a Memory-Efficient Alternative\n",
        "* Generators are a better alternative when working with large datasets.\n",
        "* They generate items one at a time and do not store the entire list in memory, thus reducing memory usage.\n",
        "* Instead of a list comprehension, use a generator expression by replacing square brackets [] with parentheses ():"
      ],
      "metadata": {
        "id": "Ez7LWQhKzV0m"
      }
    },
    {
      "cell_type": "code",
      "source": [
        "squares_gen = (x**2 for x in range(10000000))\n",
        "\n",
        "for i in range(5):\n",
        "  try:\n",
        "      value = next(squares_gen)\n",
        "      print(value)\n",
        "  except StopIteration:\n",
        "      break"
      ],
      "metadata": {
        "colab": {
          "base_uri": "https://localhost:8080/"
        },
        "id": "OqK_IRzJ0VzP",
        "outputId": "3f7a4c94-de30-41fb-a641-00be59566b5e"
      },
      "execution_count": 44,
      "outputs": [
        {
          "output_type": "stream",
          "name": "stdout",
          "text": [
            "0\n",
            "1\n",
            "4\n",
            "9\n",
            "16\n"
          ]
        }
      ]
    },
    {
      "cell_type": "markdown",
      "source": [
        "Comparing Memory Usage: List Comprehension vs. Generator\n"
      ],
      "metadata": {
        "id": "v4Ww_Qow0jWQ"
      }
    },
    {
      "cell_type": "code",
      "source": [
        "import sys\n",
        "squares = [x**2 for x in range(10000000)]\n",
        "print(sys.getsizeof(squares))\n",
        "\n",
        "squares_gen = (x**2 for x in range(10000000))\n",
        "print(sys.getsizeof(squares_gen))"
      ],
      "metadata": {
        "colab": {
          "base_uri": "https://localhost:8080/"
        },
        "id": "SoqegUSN0fxf",
        "outputId": "13b94695-567d-4963-d5c3-32e59089d3be"
      },
      "execution_count": 45,
      "outputs": [
        {
          "output_type": "stream",
          "name": "stdout",
          "text": [
            "89095160\n",
            "104\n"
          ]
        }
      ]
    },
    {
      "cell_type": "markdown",
      "source": [
        "#### Best Practices to Mitigate Memory Issues\n",
        "1. Use Generators for Large Datasets:\n",
        "* Prefer generator expressions for large datasets to save memory.\n",
        "\n",
        "2. Avoid Storing Large Intermediate Results:\n",
        "* Break down the problem to avoid generating large intermediate results. Process data in smaller chunks if possible.\n",
        "\n",
        "3. Use Built-in Functions Efficiently:\n",
        "* Functions like map() and filter() return iterators, which can be more memory-efficient than list comprehensions."
      ],
      "metadata": {
        "id": "EvsntDHe1BPW"
      }
    },
    {
      "cell_type": "code",
      "source": [
        "squares_map = map(lambda x: x**2, range(10000000))\n",
        "\n",
        "print(sys.getsizeof(squares_map))\n",
        "\n",
        "for i in range(5):\n",
        "  try:\n",
        "      value = next(squares_map)\n",
        "      print(value)\n",
        "  except StopIteration:\n",
        "      break"
      ],
      "metadata": {
        "colab": {
          "base_uri": "https://localhost:8080/"
        },
        "id": "ty_9mjMp1SXX",
        "outputId": "afe83a7c-d5b9-4d59-a96f-6ba2a0c5ab3a"
      },
      "execution_count": 46,
      "outputs": [
        {
          "output_type": "stream",
          "name": "stdout",
          "text": [
            "48\n",
            "0\n",
            "1\n",
            "4\n",
            "9\n",
            "16\n"
          ]
        }
      ]
    },
    {
      "cell_type": "markdown",
      "source": [
        "4. Chunk Processing:\n",
        "* If you must use list comprehensions, consider processing data in chunks and combining results incrementally."
      ],
      "metadata": {
        "id": "YpYVAeMT1fc9"
      }
    },
    {
      "cell_type": "code",
      "source": [
        "def process_chunks(chunk_size):\n",
        "    for start in range(0, 10000000, chunk_size):\n",
        "        chunk = [x**2 for x in range(start, start + chunk_size)]\n",
        "        # Process the chunk\n",
        "        print(f\"Processed chunk starting at {start}\")\n",
        "\n",
        "process_chunks(100000)"
      ],
      "metadata": {
        "colab": {
          "base_uri": "https://localhost:8080/"
        },
        "id": "ZVgsB7WF1nwn",
        "outputId": "63ac54a9-d84b-4c65-ed71-717c057ac1d6"
      },
      "execution_count": 47,
      "outputs": [
        {
          "output_type": "stream",
          "name": "stdout",
          "text": [
            "Processed chunk starting at 0\n",
            "Processed chunk starting at 100000\n",
            "Processed chunk starting at 200000\n",
            "Processed chunk starting at 300000\n",
            "Processed chunk starting at 400000\n",
            "Processed chunk starting at 500000\n",
            "Processed chunk starting at 600000\n",
            "Processed chunk starting at 700000\n",
            "Processed chunk starting at 800000\n",
            "Processed chunk starting at 900000\n",
            "Processed chunk starting at 1000000\n",
            "Processed chunk starting at 1100000\n",
            "Processed chunk starting at 1200000\n",
            "Processed chunk starting at 1300000\n",
            "Processed chunk starting at 1400000\n",
            "Processed chunk starting at 1500000\n",
            "Processed chunk starting at 1600000\n",
            "Processed chunk starting at 1700000\n",
            "Processed chunk starting at 1800000\n",
            "Processed chunk starting at 1900000\n",
            "Processed chunk starting at 2000000\n",
            "Processed chunk starting at 2100000\n",
            "Processed chunk starting at 2200000\n",
            "Processed chunk starting at 2300000\n",
            "Processed chunk starting at 2400000\n",
            "Processed chunk starting at 2500000\n",
            "Processed chunk starting at 2600000\n",
            "Processed chunk starting at 2700000\n",
            "Processed chunk starting at 2800000\n",
            "Processed chunk starting at 2900000\n",
            "Processed chunk starting at 3000000\n",
            "Processed chunk starting at 3100000\n",
            "Processed chunk starting at 3200000\n",
            "Processed chunk starting at 3300000\n",
            "Processed chunk starting at 3400000\n",
            "Processed chunk starting at 3500000\n",
            "Processed chunk starting at 3600000\n",
            "Processed chunk starting at 3700000\n",
            "Processed chunk starting at 3800000\n",
            "Processed chunk starting at 3900000\n",
            "Processed chunk starting at 4000000\n",
            "Processed chunk starting at 4100000\n",
            "Processed chunk starting at 4200000\n",
            "Processed chunk starting at 4300000\n",
            "Processed chunk starting at 4400000\n",
            "Processed chunk starting at 4500000\n",
            "Processed chunk starting at 4600000\n",
            "Processed chunk starting at 4700000\n",
            "Processed chunk starting at 4800000\n",
            "Processed chunk starting at 4900000\n",
            "Processed chunk starting at 5000000\n",
            "Processed chunk starting at 5100000\n",
            "Processed chunk starting at 5200000\n",
            "Processed chunk starting at 5300000\n",
            "Processed chunk starting at 5400000\n",
            "Processed chunk starting at 5500000\n",
            "Processed chunk starting at 5600000\n",
            "Processed chunk starting at 5700000\n",
            "Processed chunk starting at 5800000\n",
            "Processed chunk starting at 5900000\n",
            "Processed chunk starting at 6000000\n",
            "Processed chunk starting at 6100000\n",
            "Processed chunk starting at 6200000\n",
            "Processed chunk starting at 6300000\n",
            "Processed chunk starting at 6400000\n",
            "Processed chunk starting at 6500000\n",
            "Processed chunk starting at 6600000\n",
            "Processed chunk starting at 6700000\n",
            "Processed chunk starting at 6800000\n",
            "Processed chunk starting at 6900000\n",
            "Processed chunk starting at 7000000\n",
            "Processed chunk starting at 7100000\n",
            "Processed chunk starting at 7200000\n",
            "Processed chunk starting at 7300000\n",
            "Processed chunk starting at 7400000\n",
            "Processed chunk starting at 7500000\n",
            "Processed chunk starting at 7600000\n",
            "Processed chunk starting at 7700000\n",
            "Processed chunk starting at 7800000\n",
            "Processed chunk starting at 7900000\n",
            "Processed chunk starting at 8000000\n",
            "Processed chunk starting at 8100000\n",
            "Processed chunk starting at 8200000\n",
            "Processed chunk starting at 8300000\n",
            "Processed chunk starting at 8400000\n",
            "Processed chunk starting at 8500000\n",
            "Processed chunk starting at 8600000\n",
            "Processed chunk starting at 8700000\n",
            "Processed chunk starting at 8800000\n",
            "Processed chunk starting at 8900000\n",
            "Processed chunk starting at 9000000\n",
            "Processed chunk starting at 9100000\n",
            "Processed chunk starting at 9200000\n",
            "Processed chunk starting at 9300000\n",
            "Processed chunk starting at 9400000\n",
            "Processed chunk starting at 9500000\n",
            "Processed chunk starting at 9600000\n",
            "Processed chunk starting at 9700000\n",
            "Processed chunk starting at 9800000\n",
            "Processed chunk starting at 9900000\n"
          ]
        }
      ]
    },
    {
      "cell_type": "markdown",
      "source": [
        "## How to use Comprehensions Efficiently\n",
        "\n",
        "### Use Generators for Large Datasets\n",
        "As explained in a section above, instead of list comprehensions, use generator expressions to save memory."
      ],
      "metadata": {
        "id": "MTSB37AttHX9"
      }
    },
    {
      "cell_type": "code",
      "source": [
        "# List comprehension\n",
        "large_list = [x**2 for x in range(10000000)]\n",
        "print(large_list[:5])\n",
        "\n",
        "# Generator expression\n",
        "large_gen = (x**2 for x in range(10000000))\n",
        "for i in range(5):\n",
        "  try:\n",
        "      value = next(large_gen)\n",
        "      print(value)\n",
        "  except StopIteration:\n",
        "      break"
      ],
      "metadata": {
        "colab": {
          "base_uri": "https://localhost:8080/"
        },
        "id": "NXegn2x7tQbW",
        "outputId": "fedc8b86-4520-42bd-c6e6-a72af1cce84e"
      },
      "execution_count": 48,
      "outputs": [
        {
          "output_type": "stream",
          "name": "stdout",
          "text": [
            "[0, 1, 4, 9, 16]\n",
            "0\n",
            "1\n",
            "4\n",
            "9\n",
            "16\n"
          ]
        }
      ]
    },
    {
      "cell_type": "markdown",
      "source": [
        "### Optimize Conditions\n",
        "Place the most restrictive conditions first to minimize iterations."
      ],
      "metadata": {
        "id": "m11G733utSuf"
      }
    },
    {
      "cell_type": "code",
      "source": [
        "# Less efficient\n",
        "result = [x for x in range(1000) if x % 2 == 0 and x > 500]\n",
        "print(result)\n",
        "\n",
        "# More efficient\n",
        "result = [x for x in range(501, 1000) if x % 2 == 0]\n",
        "print(result)"
      ],
      "metadata": {
        "colab": {
          "base_uri": "https://localhost:8080/"
        },
        "id": "dn5rmAHttY-2",
        "outputId": "e33df326-a024-4387-a213-30b38bc9f1ce"
      },
      "execution_count": 49,
      "outputs": [
        {
          "output_type": "stream",
          "name": "stdout",
          "text": [
            "[502, 504, 506, 508, 510, 512, 514, 516, 518, 520, 522, 524, 526, 528, 530, 532, 534, 536, 538, 540, 542, 544, 546, 548, 550, 552, 554, 556, 558, 560, 562, 564, 566, 568, 570, 572, 574, 576, 578, 580, 582, 584, 586, 588, 590, 592, 594, 596, 598, 600, 602, 604, 606, 608, 610, 612, 614, 616, 618, 620, 622, 624, 626, 628, 630, 632, 634, 636, 638, 640, 642, 644, 646, 648, 650, 652, 654, 656, 658, 660, 662, 664, 666, 668, 670, 672, 674, 676, 678, 680, 682, 684, 686, 688, 690, 692, 694, 696, 698, 700, 702, 704, 706, 708, 710, 712, 714, 716, 718, 720, 722, 724, 726, 728, 730, 732, 734, 736, 738, 740, 742, 744, 746, 748, 750, 752, 754, 756, 758, 760, 762, 764, 766, 768, 770, 772, 774, 776, 778, 780, 782, 784, 786, 788, 790, 792, 794, 796, 798, 800, 802, 804, 806, 808, 810, 812, 814, 816, 818, 820, 822, 824, 826, 828, 830, 832, 834, 836, 838, 840, 842, 844, 846, 848, 850, 852, 854, 856, 858, 860, 862, 864, 866, 868, 870, 872, 874, 876, 878, 880, 882, 884, 886, 888, 890, 892, 894, 896, 898, 900, 902, 904, 906, 908, 910, 912, 914, 916, 918, 920, 922, 924, 926, 928, 930, 932, 934, 936, 938, 940, 942, 944, 946, 948, 950, 952, 954, 956, 958, 960, 962, 964, 966, 968, 970, 972, 974, 976, 978, 980, 982, 984, 986, 988, 990, 992, 994, 996, 998]\n",
            "[502, 504, 506, 508, 510, 512, 514, 516, 518, 520, 522, 524, 526, 528, 530, 532, 534, 536, 538, 540, 542, 544, 546, 548, 550, 552, 554, 556, 558, 560, 562, 564, 566, 568, 570, 572, 574, 576, 578, 580, 582, 584, 586, 588, 590, 592, 594, 596, 598, 600, 602, 604, 606, 608, 610, 612, 614, 616, 618, 620, 622, 624, 626, 628, 630, 632, 634, 636, 638, 640, 642, 644, 646, 648, 650, 652, 654, 656, 658, 660, 662, 664, 666, 668, 670, 672, 674, 676, 678, 680, 682, 684, 686, 688, 690, 692, 694, 696, 698, 700, 702, 704, 706, 708, 710, 712, 714, 716, 718, 720, 722, 724, 726, 728, 730, 732, 734, 736, 738, 740, 742, 744, 746, 748, 750, 752, 754, 756, 758, 760, 762, 764, 766, 768, 770, 772, 774, 776, 778, 780, 782, 784, 786, 788, 790, 792, 794, 796, 798, 800, 802, 804, 806, 808, 810, 812, 814, 816, 818, 820, 822, 824, 826, 828, 830, 832, 834, 836, 838, 840, 842, 844, 846, 848, 850, 852, 854, 856, 858, 860, 862, 864, 866, 868, 870, 872, 874, 876, 878, 880, 882, 884, 886, 888, 890, 892, 894, 896, 898, 900, 902, 904, 906, 908, 910, 912, 914, 916, 918, 920, 922, 924, 926, 928, 930, 932, 934, 936, 938, 940, 942, 944, 946, 948, 950, 952, 954, 956, 958, 960, 962, 964, 966, 968, 970, 972, 974, 976, 978, 980, 982, 984, 986, 988, 990, 992, 994, 996, 998]\n"
          ]
        }
      ]
    },
    {
      "cell_type": "markdown",
      "source": [
        "### Avoid Nested Comprehensions for Deep Nesting\n",
        "\n",
        "Deeply nested comprehensions can be hard to read and maintain."
      ],
      "metadata": {
        "id": "j7tpZxPkta7t"
      }
    },
    {
      "cell_type": "code",
      "source": [
        "# Hard to read\n",
        "result = [[[y for y in range(x)] for x in range(10)] for i in range(5)]\n",
        "print(f\"Nested Comprehensions: {result}\")"
      ],
      "metadata": {
        "colab": {
          "base_uri": "https://localhost:8080/"
        },
        "id": "zq0h2Q4StgAy",
        "outputId": "a228e961-6ad2-4868-c051-d33bba65f6e5"
      },
      "execution_count": 50,
      "outputs": [
        {
          "output_type": "stream",
          "name": "stdout",
          "text": [
            "Nested Comprehensions: [[[], [0], [0, 1], [0, 1, 2], [0, 1, 2, 3], [0, 1, 2, 3, 4], [0, 1, 2, 3, 4, 5], [0, 1, 2, 3, 4, 5, 6], [0, 1, 2, 3, 4, 5, 6, 7], [0, 1, 2, 3, 4, 5, 6, 7, 8]], [[], [0], [0, 1], [0, 1, 2], [0, 1, 2, 3], [0, 1, 2, 3, 4], [0, 1, 2, 3, 4, 5], [0, 1, 2, 3, 4, 5, 6], [0, 1, 2, 3, 4, 5, 6, 7], [0, 1, 2, 3, 4, 5, 6, 7, 8]], [[], [0], [0, 1], [0, 1, 2], [0, 1, 2, 3], [0, 1, 2, 3, 4], [0, 1, 2, 3, 4, 5], [0, 1, 2, 3, 4, 5, 6], [0, 1, 2, 3, 4, 5, 6, 7], [0, 1, 2, 3, 4, 5, 6, 7, 8]], [[], [0], [0, 1], [0, 1, 2], [0, 1, 2, 3], [0, 1, 2, 3, 4], [0, 1, 2, 3, 4, 5], [0, 1, 2, 3, 4, 5, 6], [0, 1, 2, 3, 4, 5, 6, 7], [0, 1, 2, 3, 4, 5, 6, 7, 8]], [[], [0], [0, 1], [0, 1, 2], [0, 1, 2, 3], [0, 1, 2, 3, 4], [0, 1, 2, 3, 4, 5], [0, 1, 2, 3, 4, 5, 6], [0, 1, 2, 3, 4, 5, 6, 7], [0, 1, 2, 3, 4, 5, 6, 7, 8]]]\n"
          ]
        }
      ]
    },
    {
      "cell_type": "markdown",
      "source": [
        "## Advanced Usage"
      ],
      "metadata": {
        "id": "p-Gsw7G_v068"
      }
    },
    {
      "cell_type": "markdown",
      "source": [
        "#### Dictionary Comprehensions"
      ],
      "metadata": {
        "id": "_BfCExSLv4uX"
      }
    },
    {
      "cell_type": "code",
      "source": [
        "squares = {x: x**2 for x in range(-5, 5)}\n",
        "squares"
      ],
      "metadata": {
        "colab": {
          "base_uri": "https://localhost:8080/"
        },
        "id": "NY-xrZ7Av4z5",
        "outputId": "a07e7214-8e09-4332-b547-37a0090a7595"
      },
      "execution_count": 51,
      "outputs": [
        {
          "output_type": "execute_result",
          "data": {
            "text/plain": [
              "{-5: 25, -4: 16, -3: 9, -2: 4, -1: 1, 0: 0, 1: 1, 2: 4, 3: 9, 4: 16}"
            ]
          },
          "metadata": {},
          "execution_count": 51
        }
      ]
    },
    {
      "cell_type": "markdown",
      "source": [
        "#### Set Comprehensions"
      ],
      "metadata": {
        "id": "921Uf128v45L"
      }
    },
    {
      "cell_type": "code",
      "source": [
        "unique_squares = {x**2 for x in range(-5, 5)}\n",
        "unique_squares"
      ],
      "metadata": {
        "colab": {
          "base_uri": "https://localhost:8080/"
        },
        "id": "6-Xx9h_mv4_T",
        "outputId": "038665c6-e5b9-44a8-a262-775d5feaf1c6"
      },
      "execution_count": 52,
      "outputs": [
        {
          "output_type": "execute_result",
          "data": {
            "text/plain": [
              "{0, 1, 4, 9, 16, 25}"
            ]
          },
          "metadata": {},
          "execution_count": 52
        }
      ]
    },
    {
      "cell_type": "markdown",
      "source": [
        "#### Comprehensions with `zip`\n",
        "\n",
        "* Combining elements from multiple iterables."
      ],
      "metadata": {
        "id": "Qdji39cWv5E0"
      }
    },
    {
      "cell_type": "code",
      "source": [
        "# What is zip?\n",
        "\"\"\"\n",
        "The zip function in Python is used to combine multiple iterables (e.g., lists, tuples) into a single\n",
        "iterable of tuples. Each tuple contains one element from each of the input iterables. The zip function\n",
        "stops when the shortest input iterable is exhausted.\n",
        "\"\"\"\n",
        "list1 = [1, 2, 3]\n",
        "list2 = ['a', 'b', 'c']\n",
        "combined = zip(list1, list2)\n",
        "\n",
        "# Convert the zip object to a list to see the combined pairs\n",
        "combined_list = list(combined)\n",
        "print(combined_list)"
      ],
      "metadata": {
        "colab": {
          "base_uri": "https://localhost:8080/"
        },
        "id": "Yo1LhmeQxmk9",
        "outputId": "38c46da9-ea31-4c42-a96d-b59f88c5ff4d"
      },
      "execution_count": 53,
      "outputs": [
        {
          "output_type": "stream",
          "name": "stdout",
          "text": [
            "[(1, 'a'), (2, 'b'), (3, 'c')]\n"
          ]
        }
      ]
    },
    {
      "cell_type": "code",
      "source": [
        "names = ['Alice', 'Bob', 'Charlie']\n",
        "ages = [25, 30, 35]\n",
        "\n",
        "combined = {name: age for name, age in zip(names, ages)}\n",
        "combined"
      ],
      "metadata": {
        "colab": {
          "base_uri": "https://localhost:8080/"
        },
        "id": "pBMkoS04v5KD",
        "outputId": "14155916-2d98-4798-85be-4438e2a9b962"
      },
      "execution_count": 54,
      "outputs": [
        {
          "output_type": "execute_result",
          "data": {
            "text/plain": [
              "{'Alice': 25, 'Bob': 30, 'Charlie': 35}"
            ]
          },
          "metadata": {},
          "execution_count": 54
        }
      ]
    },
    {
      "cell_type": "markdown",
      "source": [
        "## Try it out yourself!\n",
        "\n",
        "Solve these questions from Python One Liners by Christian Mayer to test what we learnt!"
      ],
      "metadata": {
        "id": "fRals1zD8F-_"
      }
    },
    {
      "cell_type": "markdown",
      "source": [
        "###  FIND WORDS WITH HIGH INFORMATION VALUE\n",
        "\n",
        "Our goal is to solve the following problem: given a multiline\n",
        "string, create a list of lists—each consisting of all the words in\n",
        "a line that have more than three characters."
      ],
      "metadata": {
        "id": "LrwxPkNX8Wkt"
      }
    },
    {
      "cell_type": "code",
      "source": [
        "text = '''\n",
        "Call me Ishmael. Some years ago - never mind how long precisely - having\n",
        "little or no money in my purse, and nothing particular to interest me\n",
        "on shore, I thought I would sail about a little and see the watery part\n",
        "of the world. It is a way I have of driving off the spleen, and regulating\n",
        "the circulation. - Moby Dick'''"
      ],
      "metadata": {
        "id": "Qc7gt9ja8Wsu"
      },
      "execution_count": 55,
      "outputs": []
    },
    {
      "cell_type": "markdown",
      "source": [
        "#### Answer:"
      ],
      "metadata": {
        "id": "pSzVyEep8tK6"
      }
    },
    {
      "cell_type": "code",
      "source": [
        "high_info_words = [[word for word in sentence.split() if len(word)>3] for sentence in text.split('.')]\n",
        "high_info_words"
      ],
      "metadata": {
        "colab": {
          "base_uri": "https://localhost:8080/"
        },
        "id": "HHX7Klgc8waE",
        "outputId": "6a885d57-1c5b-45e4-dc97-337b3488f595"
      },
      "execution_count": 56,
      "outputs": [
        {
          "output_type": "execute_result",
          "data": {
            "text/plain": [
              "[['Call', 'Ishmael'],\n",
              " ['Some',\n",
              "  'years',\n",
              "  'never',\n",
              "  'mind',\n",
              "  'long',\n",
              "  'precisely',\n",
              "  'having',\n",
              "  'little',\n",
              "  'money',\n",
              "  'purse,',\n",
              "  'nothing',\n",
              "  'particular',\n",
              "  'interest',\n",
              "  'shore,',\n",
              "  'thought',\n",
              "  'would',\n",
              "  'sail',\n",
              "  'about',\n",
              "  'little',\n",
              "  'watery',\n",
              "  'part',\n",
              "  'world'],\n",
              " ['have', 'driving', 'spleen,', 'regulating', 'circulation'],\n",
              " ['Moby', 'Dick']]"
            ]
          },
          "metadata": {},
          "execution_count": 56
        }
      ]
    },
    {
      "cell_type": "markdown",
      "source": [
        "### READING A FILE\n",
        "\n",
        "Our goal is to open a file, read all lines, strip the leading and trailing whitespace characters, and store the result in a list.\n",
        "\n",
        "Hint: Run the below code to create an example.txt file\n",
        "\n",
        "\n"
      ],
      "metadata": {
        "id": "tDBsL7TG8W1n"
      }
    },
    {
      "cell_type": "code",
      "source": [
        "import os\n",
        "\n",
        "lorem_ipsum = \"\"\"Lorem ipsum dolor sit amet, consectetur adipiscing elit.\n",
        "Sed do eiusmod tempor incididunt ut labore et dolore magna aliqua.\n",
        "Ut enim ad minim veniam, quis nostrud exercitation ullamco laboris\n",
        "nisi ut aliquip ex ea commodo consequat.\"\"\"\n",
        "\n",
        "current_directory = os.getcwd()\n",
        "file_path = os.path.join(current_directory, \"example.txt\")\n",
        "\n",
        "with open(file_path, \"w\") as file:\n",
        "    file.write(lorem_ipsum)"
      ],
      "metadata": {
        "id": "77GHsnA--_hf"
      },
      "execution_count": 57,
      "outputs": []
    },
    {
      "cell_type": "code",
      "source": [
        "my_file = [line.strip() for line in open('example.txt')]\n",
        "my_file"
      ],
      "metadata": {
        "colab": {
          "base_uri": "https://localhost:8080/"
        },
        "id": "5Vk3s4U88W7y",
        "outputId": "a5e4dcf6-6098-4230-a261-c836f3afa22f"
      },
      "execution_count": 58,
      "outputs": [
        {
          "output_type": "execute_result",
          "data": {
            "text/plain": [
              "['Lorem ipsum dolor sit amet, consectetur adipiscing elit.',\n",
              " 'Sed do eiusmod tempor incididunt ut labore et dolore magna aliqua.',\n",
              " 'Ut enim ad minim veniam, quis nostrud exercitation ullamco laboris',\n",
              " 'nisi ut aliquip ex ea commodo consequat.']"
            ]
          },
          "metadata": {},
          "execution_count": 58
        }
      ]
    },
    {
      "cell_type": "markdown",
      "source": [
        "### USING LAMBDA AND MAP FUNCTIONS\n",
        "\n",
        "The map() function then applies the function f on\n",
        "each element in the sequence s. f can be a lambda function.\n",
        "\n",
        "You can check whether a string x contains substring y by using the expression `y in x`\n",
        "\n",
        "When given a list of strings, our next one-liner\n",
        "creates a new list of tuples, each consisting of a Boolean value and the original string. The Boolean value indicates whether the string 'anonymous' appears in the original string! We call the\n",
        "resulting list mark because the Boolean values mark the string elements in the list that contain the string 'anonymous'.\n"
      ],
      "metadata": {
        "id": "XmKhvsnjExIf"
      }
    },
    {
      "cell_type": "code",
      "source": [
        "txt = ['lambda functions are anonymous functions.',\n",
        "       'anonymous functions dont have a name.',\n",
        "       'functions are objects in Python.']"
      ],
      "metadata": {
        "id": "HNCVPPnQFvUo"
      },
      "execution_count": 59,
      "outputs": []
    },
    {
      "cell_type": "code",
      "source": [
        "mark = map(lambda sentence: ('anon' in sentence, sentence), txt)\n",
        "print(list(mark))\n",
        "\n",
        "# OR\n",
        "\n",
        "mark = map(lambda s: (True, s) if 'anonymous' in s else (False, s), txt)\n",
        "print(list(mark))"
      ],
      "metadata": {
        "colab": {
          "base_uri": "https://localhost:8080/"
        },
        "id": "CYH9R9ViFy6m",
        "outputId": "3c64f92c-a16f-4e5c-cc07-ccc41e801c12"
      },
      "execution_count": 60,
      "outputs": [
        {
          "output_type": "stream",
          "name": "stdout",
          "text": [
            "[(True, 'lambda functions are anonymous functions.'), (True, 'anonymous functions dont have a name.'), (False, 'functions are objects in Python.')]\n",
            "[(True, 'lambda functions are anonymous functions.'), (True, 'anonymous functions dont have a name.'), (False, 'functions are objects in Python.')]\n"
          ]
        }
      ]
    },
    {
      "cell_type": "markdown",
      "source": [
        "### USING SLICING TO EXTRACT MATCHING SUBSTRING ENVIRONMENTS\n",
        "Slicing syntax: `x[start:stop:step]`\n",
        "\n",
        "Our goal is to find a particular text query within a multiline\n",
        "string. You want to find the query in the text and return its\n",
        "immediate environment, up to 18 positions around the found\n",
        "query"
      ],
      "metadata": {
        "id": "mM8qr_peIusj"
      }
    },
    {
      "cell_type": "code",
      "source": [
        "letters_amazon = '''\n",
        "We spent several years building our own database engine,\n",
        "Amazon Aurora, a fully-managed MySQL and PostgreSQL-compatible\n",
        "service with the same or better durability and availability as\n",
        "the commercial engines, but at one-tenth of the cost. We were\n",
        "not surprised when this worked.\n",
        "'''\n",
        "query = 'SQL'"
      ],
      "metadata": {
        "id": "j6iJL6LNHOhZ"
      },
      "execution_count": 61,
      "outputs": []
    },
    {
      "cell_type": "code",
      "source": [
        "immediate_env = lambda x, query: x[x.find(query)-18 : x.find(query)+18] if query in x else None\n",
        "immediate_env(letters_amazon, query)"
      ],
      "metadata": {
        "colab": {
          "base_uri": "https://localhost:8080/",
          "height": 35
        },
        "id": "V3yGoHtd6WXt",
        "outputId": "82854d89-f0df-4da9-b1f0-8ffd089f9dc8"
      },
      "execution_count": 62,
      "outputs": [
        {
          "output_type": "execute_result",
          "data": {
            "text/plain": [
              "'a fully-managed MySQL and PostgreSQL'"
            ],
            "application/vnd.google.colaboratory.intrinsic+json": {
              "type": "string"
            }
          },
          "metadata": {},
          "execution_count": 62
        }
      ]
    },
    {
      "cell_type": "markdown",
      "source": [
        "### COMBINING LIST COMPREHENSION AND SLICING\n",
        "Our goal is to create a new training data sample from our data —a list of lists, each consisting of six floats—by including only every other float value from the original data set."
      ],
      "metadata": {
        "id": "sh2YfWgdI0Iy"
      }
    },
    {
      "cell_type": "code",
      "source": [
        "## Data (daily stock prices ($))\n",
        "price = [[9.9, 9.8, 9.8, 9.4, 9.5, 9.7],\n",
        "         [9.5, 9.4, 9.4, 9.3, 9.2, 9.1],\n",
        "         [8.4, 7.9, 7.9, 8.1, 8.0, 8.0],\n",
        "         [7.1, 5.9, 4.8, 4.8, 4.7, 3.9]]"
      ],
      "metadata": {
        "id": "WzaGokrBNfUD"
      },
      "execution_count": 63,
      "outputs": []
    },
    {
      "cell_type": "code",
      "source": [
        "new_price = [x[::2] for x in price]\n",
        "new_price"
      ],
      "metadata": {
        "colab": {
          "base_uri": "https://localhost:8080/"
        },
        "id": "L2meKr0P8Vs0",
        "outputId": "6adc48b8-a859-4ae5-e3ea-b1aaaa7a2092"
      },
      "execution_count": 64,
      "outputs": [
        {
          "output_type": "execute_result",
          "data": {
            "text/plain": [
              "[[9.9, 9.8, 9.5], [9.5, 9.4, 9.2], [8.4, 7.9, 8.0], [7.1, 4.8, 4.7]]"
            ]
          },
          "metadata": {},
          "execution_count": 64
        }
      ]
    },
    {
      "cell_type": "markdown",
      "source": [
        "### USING SLICE ASSIGNMENT TO CORRECT CORRUPTED LISTS\n",
        "\n",
        "Our goal is to replace every other string with the string immediately in front of it"
      ],
      "metadata": {
        "id": "ClUnn_vqI135"
      }
    },
    {
      "cell_type": "code",
      "source": [
        "visitors = ['Firefox', 'corrupted', 'Chrome', 'corrupted',\n",
        "            'Safari', 'corrupted', 'Safari', 'corrupted',\n",
        "            'Chrome', 'corrupted', 'Firefox', 'corrupted']"
      ],
      "metadata": {
        "id": "TNF0RlgQNf2r"
      },
      "execution_count": 65,
      "outputs": []
    },
    {
      "cell_type": "code",
      "source": [
        "visitors[1::2] = visitors[::2]\n",
        "visitors"
      ],
      "metadata": {
        "colab": {
          "base_uri": "https://localhost:8080/"
        },
        "id": "7KA6Q3e--gY3",
        "outputId": "44427980-ef54-488f-96b1-e80fb7c4758c"
      },
      "execution_count": 66,
      "outputs": [
        {
          "output_type": "execute_result",
          "data": {
            "text/plain": [
              "['Firefox',\n",
              " 'Firefox',\n",
              " 'Chrome',\n",
              " 'Chrome',\n",
              " 'Safari',\n",
              " 'Safari',\n",
              " 'Safari',\n",
              " 'Safari',\n",
              " 'Chrome',\n",
              " 'Chrome',\n",
              " 'Firefox',\n",
              " 'Firefox']"
            ]
          },
          "metadata": {},
          "execution_count": 66
        }
      ]
    },
    {
      "cell_type": "markdown",
      "source": [
        "### ANALYZING CARDIAC HEALTH DATA WITH LIST CONCATENATION\n",
        "\n",
        "Given a list of integers that reflect the measured cardiac cycle, you first want to clean the data by removing the first and last two values from the list. Second, you create a new list with expected future heart rates by copying the cardiac cycle to future time instances."
      ],
      "metadata": {
        "id": "YtBtiscJI16R"
      }
    },
    {
      "cell_type": "code",
      "source": [
        "cardiac_cycle = [62, 60, 62, 64, 68, 77, 80, 76, 71, 66, 61, 60, 62]"
      ],
      "metadata": {
        "id": "PXdW5vb8Ngay"
      },
      "execution_count": 67,
      "outputs": []
    },
    {
      "cell_type": "code",
      "source": [
        "new_cardiac_cycle = cardiac_cycle[1:-2] * 10\n",
        "new_cardiac_cycle"
      ],
      "metadata": {
        "colab": {
          "base_uri": "https://localhost:8080/"
        },
        "collapsed": true,
        "id": "2tKnnhvX_289",
        "outputId": "944c97df-4a97-4514-feea-581cae659d19"
      },
      "execution_count": 68,
      "outputs": [
        {
          "output_type": "execute_result",
          "data": {
            "text/plain": [
              "[60,\n",
              " 62,\n",
              " 64,\n",
              " 68,\n",
              " 77,\n",
              " 80,\n",
              " 76,\n",
              " 71,\n",
              " 66,\n",
              " 61,\n",
              " 60,\n",
              " 62,\n",
              " 64,\n",
              " 68,\n",
              " 77,\n",
              " 80,\n",
              " 76,\n",
              " 71,\n",
              " 66,\n",
              " 61,\n",
              " 60,\n",
              " 62,\n",
              " 64,\n",
              " 68,\n",
              " 77,\n",
              " 80,\n",
              " 76,\n",
              " 71,\n",
              " 66,\n",
              " 61,\n",
              " 60,\n",
              " 62,\n",
              " 64,\n",
              " 68,\n",
              " 77,\n",
              " 80,\n",
              " 76,\n",
              " 71,\n",
              " 66,\n",
              " 61,\n",
              " 60,\n",
              " 62,\n",
              " 64,\n",
              " 68,\n",
              " 77,\n",
              " 80,\n",
              " 76,\n",
              " 71,\n",
              " 66,\n",
              " 61,\n",
              " 60,\n",
              " 62,\n",
              " 64,\n",
              " 68,\n",
              " 77,\n",
              " 80,\n",
              " 76,\n",
              " 71,\n",
              " 66,\n",
              " 61,\n",
              " 60,\n",
              " 62,\n",
              " 64,\n",
              " 68,\n",
              " 77,\n",
              " 80,\n",
              " 76,\n",
              " 71,\n",
              " 66,\n",
              " 61,\n",
              " 60,\n",
              " 62,\n",
              " 64,\n",
              " 68,\n",
              " 77,\n",
              " 80,\n",
              " 76,\n",
              " 71,\n",
              " 66,\n",
              " 61,\n",
              " 60,\n",
              " 62,\n",
              " 64,\n",
              " 68,\n",
              " 77,\n",
              " 80,\n",
              " 76,\n",
              " 71,\n",
              " 66,\n",
              " 61,\n",
              " 60,\n",
              " 62,\n",
              " 64,\n",
              " 68,\n",
              " 77,\n",
              " 80,\n",
              " 76,\n",
              " 71,\n",
              " 66,\n",
              " 61]"
            ]
          },
          "metadata": {},
          "execution_count": 68
        }
      ]
    },
    {
      "cell_type": "code",
      "source": [
        "import matplotlib.pyplot as plt\n",
        "plt.plot(new_cardiac_cycle)\n",
        "plt.show()"
      ],
      "metadata": {
        "colab": {
          "base_uri": "https://localhost:8080/",
          "height": 430
        },
        "id": "CRd-GSm9AY70",
        "outputId": "5eaa22ae-b861-4f5b-998a-e921307e6976"
      },
      "execution_count": 69,
      "outputs": [
        {
          "output_type": "display_data",
          "data": {
            "text/plain": [
              "<Figure size 640x480 with 1 Axes>"
            ],
            "image/png": "[encoded data removed]"
          },
          "metadata": {}
        }
      ]
    },
    {
      "cell_type": "markdown",
      "source": [
        "### USING GENERATOR EXPRESSIONS TO FIND COMPANIES THAT PAY BELOW MINIMUM WAGE\n",
        "\n",
        "Our data is a dictionary of dictionaries storing the hourly wages of company employees. You want to extract a list of the companies paying below your state’s minimum wage (< $9) for at least one employee."
      ],
      "metadata": {
        "id": "8iYkAC08I18t"
      }
    },
    {
      "cell_type": "code",
      "source": [
        "companies = {\n",
        "    'CoolCompany' : {'Alice' : 33, 'Bob' : 28, 'Frank' : 29},\n",
        "    'CheapCompany' : {'Ann' : 4, 'Lee' : 9, 'Chrisi' : 7},\n",
        "    'SosoCompany' : {'Esther' : 38, 'Cole' : 8, 'Paris' : 18}}"
      ],
      "metadata": {
        "id": "nFW6pNsANg4K"
      },
      "execution_count": 70,
      "outputs": []
    },
    {
      "cell_type": "code",
      "source": [
        "below_min = [company for company in companies if any(wage < 9 for wage in companies[company].values())]\n",
        "below_min"
      ],
      "metadata": {
        "colab": {
          "base_uri": "https://localhost:8080/"
        },
        "id": "At3xTQ2VBMlU",
        "outputId": "4b8a4f96-e2ea-4c3f-d141-8c13230b03a4"
      },
      "execution_count": 71,
      "outputs": [
        {
          "output_type": "execute_result",
          "data": {
            "text/plain": [
              "['CheapCompany', 'SosoCompany']"
            ]
          },
          "metadata": {},
          "execution_count": 71
        }
      ]
    },
    {
      "cell_type": "markdown",
      "source": [
        "### FORMATTING DATABASES WITH THE ZIP() FUNCTION\n",
        "\n",
        "Your data consists of the column names and the employee data organized as list of tuples (rows). Assign the column names to the rows and, thus, create a list of dictionaries. Each dictionary assigns the column names to the respective data values"
      ],
      "metadata": {
        "id": "8PeJFtAgI9dq"
      }
    },
    {
      "cell_type": "code",
      "source": [
        "column_names = ['name', 'salary', 'job']\n",
        "db_rows = [('Alice', 180000, 'data scientist'),\n",
        "           ('Bob', 99000, 'mid-level manager'),\n",
        "           ('Frank', 87000, 'CEO')]"
      ],
      "metadata": {
        "id": "__l_RlCkNhV_"
      },
      "execution_count": 72,
      "outputs": []
    },
    {
      "cell_type": "code",
      "source": [
        "db = [dict(zip(column_names, row)) for row in db_rows]\n",
        "db"
      ],
      "metadata": {
        "colab": {
          "base_uri": "https://localhost:8080/"
        },
        "id": "ht8nGGslCkIu",
        "outputId": "fe0931f8-5ea4-4a8f-87ca-7a09ac934937"
      },
      "execution_count": 73,
      "outputs": [
        {
          "output_type": "execute_result",
          "data": {
            "text/plain": [
              "[{'name': 'Alice', 'salary': 180000, 'job': 'data scientist'},\n",
              " {'name': 'Bob', 'salary': 99000, 'job': 'mid-level manager'},\n",
              " {'name': 'Frank', 'salary': 87000, 'job': 'CEO'}]"
            ]
          },
          "metadata": {},
          "execution_count": 73
        }
      ]
    }
  ]
}