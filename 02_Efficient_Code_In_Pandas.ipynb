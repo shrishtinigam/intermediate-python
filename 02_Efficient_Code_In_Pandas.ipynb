{
  "cells": [
    {
      "cell_type": "markdown",
      "metadata": {
        "id": "view-in-github",
        "colab_type": "text"
      },
      "source": [
        "<a href=\"https://colab.research.google.com/github/shrishtinigam/intermediate-python/blob/main/02_Efficient_Code_In_Pandas.ipynb\" target=\"_parent\"><img src=\"https://colab.research.google.com/assets/colab-badge.svg\" alt=\"Open In Colab\"/></a>"
      ]
    },
    {
      "cell_type": "markdown",
      "metadata": {
        "id": "poQ5oRGk-T2W"
      },
      "source": [
        "## List Comprehensions VS Looping\n",
        "https://stackoverflow.com/questions/22108488/are-list-comprehensions-and-functional-functions-faster-than-for-loops"
      ]
    },
    {
      "cell_type": "markdown",
      "metadata": {
        "id": "TQ6XCYHr-T2b"
      },
      "source": [
        "The following are rough guidelines and educated guesses based on experience. You should time or profile your concrete use case to get hard numbers, and those numbers may occasionally disagree with the below.\n",
        "\n",
        "A list comprehension is usually a tiny bit faster than the precisely equivalent for loop (that actually builds a list), most likely because it doesn't have to look up the list and its append method on every iteration. However, a list comprehension still does a bytecode-level loop.\n",
        "\n",
        "Using a list comprehension in place of a loop that doesn't build a list, nonsensically accumulating a list of meaningless values and then throwing the list away, is often slower because of the overhead of creating and extending the list. List comprehensions aren't magic that is inherently faster than a good old loop."
      ]
    },
    {
      "cell_type": "code",
      "execution_count": null,
      "metadata": {
        "id": "GZ0cOZ7R-T2c"
      },
      "outputs": [],
      "source": [
        "import time"
      ]
    },
    {
      "cell_type": "code",
      "execution_count": null,
      "metadata": {
        "id": "uV4lI4GW-T2e",
        "outputId": "054f8735-bab8-4ec0-d268-984ceb68706d"
      },
      "outputs": [
        {
          "name": "stdout",
          "output_type": "stream",
          "text": [
            "Time using list comprehension: 0.02050042152404785\n"
          ]
        }
      ],
      "source": [
        "list_comp_start_time = time.time()\n",
        "result = [i*i for i in range(0,100000)]\n",
        "list_comp_end_time = time.time()\n",
        "print(\"Time using list comprehension: \" + str(list_comp_end_time - list_comp_start_time))"
      ]
    },
    {
      "cell_type": "code",
      "execution_count": null,
      "metadata": {
        "id": "-49_iqkG-T2f",
        "outputId": "1f7c5785-6b8d-4507-8069-c633347b85d3"
      },
      "outputs": [
        {
          "name": "stdout",
          "output_type": "stream",
          "text": [
            "Time using list comprehension: 0.02550482749938965\n"
          ]
        }
      ],
      "source": [
        "for_loop_start_time = time.time()\n",
        "for i in range(0,100000):\n",
        "    result.append(i*i)\n",
        "for_loop_end_time = time.time()\n",
        "print(\"Time using list comprehension: \" +str(for_loop_end_time - for_loop_start_time))"
      ]
    },
    {
      "cell_type": "markdown",
      "metadata": {
        "id": "m_YAMQls-T2f"
      },
      "source": [
        "## Appending Rows to a Pandas Dataframe\n",
        "Adding rows to a pandas DataFrame can be necessary in many scenarios, but it is generally not considered a best practice if done repeatedly in a loop or iterative process. This is because DataFrames are not optimized for frequent appends, which can lead to inefficient memory usage and slow performance.\n",
        "\n",
        "Appending rows to a pandas DataFrame using the append method is inefficient and deprecated since pandas version 1.4.0. The recommended approach is to use the pd.concat function.\n",
        "\n",
        "### Using `pd.concat`\n",
        "* Basic Usage: pd.concat takes a list of DataFrames or Series to concatenate.\n",
        "* Axis Parameter: Default concatenation is along the rows (axis 0). To concatenate columns, use axis=1.\n",
        "* Ignore Index: Use ignore_index=True to reindex the resulting DataFrame, useful when the indices overlap.\n",
        "* Batch Concatenation: Collect DataFrames or rows in a list and concatenate them once at the end. This approach is much more efficient than concatenating within a loop."
      ]
    },
    {
      "cell_type": "code",
      "execution_count": null,
      "metadata": {
        "id": "y5EKu_M2-T2g",
        "outputId": "17725f00-844e-4a6c-c2ba-b23c9158ff5e"
      },
      "outputs": [
        {
          "ename": "ModuleNotFoundError",
          "evalue": "No module named 'pandas'",
          "output_type": "error",
          "traceback": [
            "\u001b[1;31m---------------------------------------------------------------------------\u001b[0m",
            "\u001b[1;31mModuleNotFoundError\u001b[0m                       Traceback (most recent call last)",
            "Cell \u001b[1;32mIn[25], line 1\u001b[0m\n\u001b[1;32m----> 1\u001b[0m \u001b[38;5;28;01mimport\u001b[39;00m \u001b[38;5;21;01mpandas\u001b[39;00m\n",
            "\u001b[1;31mModuleNotFoundError\u001b[0m: No module named 'pandas'"
          ]
        }
      ],
      "source": [
        "import pandas"
      ]
    },
    {
      "cell_type": "code",
      "execution_count": null,
      "metadata": {
        "id": "AmB9bMhk-T2g",
        "outputId": "eb5fefbc-7c80-4c2b-a733-f4cf5b1f00eb"
      },
      "outputs": [
        {
          "ename": "NameError",
          "evalue": "name 'pd' is not defined",
          "output_type": "error",
          "traceback": [
            "\u001b[1;31m---------------------------------------------------------------------------\u001b[0m",
            "\u001b[1;31mNameError\u001b[0m                                 Traceback (most recent call last)",
            "Cell \u001b[1;32mIn[18], line 3\u001b[0m\n\u001b[0;32m      1\u001b[0m data \u001b[38;5;241m=\u001b[39m []\n\u001b[0;32m      2\u001b[0m \u001b[38;5;28;01mfor\u001b[39;00m y \u001b[38;5;129;01min\u001b[39;00m \u001b[38;5;28mrange\u001b[39m(\u001b[38;5;241m1999\u001b[39m, \u001b[38;5;241m2023\u001b[39m):\n\u001b[1;32m----> 3\u001b[0m     df_y \u001b[38;5;241m=\u001b[39m \u001b[43mpd\u001b[49m\u001b[38;5;241m.\u001b[39mDataFrame(np\u001b[38;5;241m.\u001b[39mrandom\u001b[38;5;241m.\u001b[39mrand(\u001b[38;5;241m365\u001b[39m, \u001b[38;5;241m3\u001b[39m), index\u001b[38;5;241m=\u001b[39mpd\u001b[38;5;241m.\u001b[39mdate_range(\u001b[38;5;124mf\u001b[39m\u001b[38;5;124m'\u001b[39m\u001b[38;5;132;01m{\u001b[39;00my\u001b[38;5;132;01m}\u001b[39;00m\u001b[38;5;124m-01-01\u001b[39m\u001b[38;5;124m'\u001b[39m, periods\u001b[38;5;241m=\u001b[39m\u001b[38;5;241m365\u001b[39m), columns\u001b[38;5;241m=\u001b[39m\u001b[38;5;28mlist\u001b[39m(\u001b[38;5;124m'\u001b[39m\u001b[38;5;124mABC\u001b[39m\u001b[38;5;124m'\u001b[39m))\n\u001b[0;32m      4\u001b[0m     data\u001b[38;5;241m.\u001b[39mappend(df_y)\n\u001b[0;32m      5\u001b[0m df_all \u001b[38;5;241m=\u001b[39m pd\u001b[38;5;241m.\u001b[39mconcat(data)\n",
            "\u001b[1;31mNameError\u001b[0m: name 'pd' is not defined"
          ]
        }
      ],
      "source": [
        "data = []\n",
        "for y in range(1999, 2023):\n",
        "    df_y = pd.DataFrame(np.random.rand(365, 3), index=pd.date_range(f'{y}-01-01', periods=365), columns=list('ABC'))\n",
        "    data.append(df_y)\n",
        "df_all = pd.concat(data)"
      ]
    }
  ],
  "metadata": {
    "kernelspec": {
      "display_name": "Python 3",
      "language": "python",
      "name": "python3"
    },
    "language_info": {
      "codemirror_mode": {
        "name": "ipython",
        "version": 3
      },
      "file_extension": ".py",
      "mimetype": "text/x-python",
      "name": "python",
      "nbconvert_exporter": "python",
      "pygments_lexer": "ipython3",
      "version": "3.8.0"
    },
    "colab": {
      "provenance": [],
      "include_colab_link": true
    }
  },
  "nbformat": 4,
  "nbformat_minor": 0
}